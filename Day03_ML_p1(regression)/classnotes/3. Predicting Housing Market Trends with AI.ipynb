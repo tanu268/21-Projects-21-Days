{
 "cells": [
  {
   "cell_type": "markdown",
   "metadata": {
    "id": "intro_markdown"
   },
   "source": [
    "# Project 3: House Price Prediction (Regression) 🏠\n",
    "\n",
    "**Project Objective:** To build a regression model that accurately predicts the sale price of houses based on a large number of features. This project will cover the complete machine learning workflow, from deep EDA to advanced preprocessing, feature engineering, model training, and evaluation.\n",
    "\n",
    "\n",
    "### Core Concepts We'll Cover:\n",
    "1.  **Regression vs. Classification:** Understanding the goal of predicting a continuous value.\n",
    "2.  **Target Variable Analysis:** Analyzing the distribution of `SalePrice` and applying transformations (log transform).\n",
    "3.  **Advanced Data Preprocessing:** Implementing robust strategies for handling missing values in both numerical and categorical features.\n",
    "4.  **Feature Engineering:** Creating new, powerful features from the existing data to improve model performance.\n",
    "5.  **Categorical Encoding:** Differentiating between and applying Label Encoding and One-Hot Encoding.\n",
    "6.  **Model Building:** Training and comparing a simple baseline model (Linear Regression) with an advanced model (XGBoost).\n",
    "7.  **Model Evaluation:** Understanding and using key regression metrics (RMSE, MAE, R-squared)."
   ]
  },
  {
   "cell_type": "markdown",
   "metadata": {
    "id": "setup_markdown"
   },
   "source": [
    "### Step 1: Setup - Importing Libraries and Kaggle API"
   ]
  },
  {
   "cell_type": "code",
   "execution_count": 1,
   "metadata": {
    "executionInfo": {
     "elapsed": 4227,
     "status": "ok",
     "timestamp": 1757512690898,
     "user": {
      "displayName": "Harshvardhan Singh",
      "userId": "01021206035258477392"
     },
     "user_tz": -330
    },
    "id": "setup_code"
   },
   "outputs": [],
   "source": [
    "import pandas as pd\n",
    "import numpy as np\n",
    "import matplotlib.pyplot as plt\n",
    "import seaborn as sns\n",
    "from scipy.stats import skew\n",
    "from sklearn.model_selection import train_test_split\n",
    "from sklearn.preprocessing import StandardScaler, LabelEncoder\n",
    "from sklearn.linear_model import LinearRegression\n",
    "from sklearn.metrics import mean_squared_error, r2_score, mean_absolute_error\n",
    "import xgboost as xgb\n",
    "import os\n",
    "\n",
    "# Set plot style\n",
    "sns.set_style('whitegrid')"
   ]
  },
  {
   "cell_type": "markdown",
   "metadata": {
    "id": "load_data_markdown"
   },
   "source": [
    "### Step 2: Data Loading via Kaggle API\n",
    "We will load the data directly from the Kaggle competition. This is the standard and most reliable method for using Kaggle datasets in a cloud environment like Colab.\n",
    "\n",
    "**Instructions:**\n",
    "1.  Go to your Kaggle account page ([https://www.kaggle.com/account](https://www.kaggle.com/account)) and click **'Create New Token'** in the API section. This will download a `kaggle.json` file.\n",
    "2.  Run the code cell below. It will prompt you to upload a file. Select the `kaggle.json` file you just downloaded."
   ]
  },
  {
   "cell_type": "code",
   "execution_count": 2,
   "metadata": {
    "colab": {
     "base_uri": "https://localhost:8080/",
     "height": 125
    },
    "executionInfo": {
     "elapsed": 32701,
     "status": "ok",
     "timestamp": 1757513253139,
     "user": {
      "displayName": "Harshvardhan Singh",
      "userId": "01021206035258477392"
     },
     "user_tz": -330
    },
    "id": "kaggle_api_setup_code",
    "outputId": "0ef7ae8c-0309-4916-c688-789eddf17226"
   },
   "outputs": [
    {
     "data": {
      "text/plain": [
       "'\\n# Install the Kaggle library\\n!pip install -q kaggle\\n\\n# Use Colab\\'s file uploader\\nfrom google.colab import files\\nprint(\"Please upload the kaggle.json file you downloaded from your Kaggle account.\")\\nfiles.upload()\\n\\n# Create a directory for the Kaggle API configuration\\n!mkdir -p ~/.kaggle\\n# Move the uploaded kaggle.json to the required directory\\n!cp kaggle.json ~/.kaggle/\\n# Set the correct permissions for the file\\n!chmod 600 ~/.kaggle/kaggle.json\\n\\nprint(\"\\nKaggle API configured successfully.\")\\n'"
      ]
     },
     "execution_count": 2,
     "metadata": {},
     "output_type": "execute_result"
    }
   ],
   "source": [
    "'''\n",
    "# Install the Kaggle library\n",
    "!pip install -q kaggle\n",
    "\n",
    "# Use Colab's file uploader\n",
    "from google.colab import files\n",
    "print(\"Please upload the kaggle.json file you downloaded from your Kaggle account.\")\n",
    "files.upload()\n",
    "\n",
    "# Create a directory for the Kaggle API configuration\n",
    "!mkdir -p ~/.kaggle\n",
    "# Move the uploaded kaggle.json to the required directory\n",
    "!cp kaggle.json ~/.kaggle/\n",
    "# Set the correct permissions for the file\n",
    "!chmod 600 ~/.kaggle/kaggle.json\n",
    "\n",
    "print(\"\\nKaggle API configured successfully.\")\n",
    "'''"
   ]
  },
  {
   "cell_type": "code",
   "execution_count": 3,
   "metadata": {
    "colab": {
     "base_uri": "https://localhost:8080/"
    },
    "executionInfo": {
     "elapsed": 2377,
     "status": "ok",
     "timestamp": 1757513257661,
     "user": {
      "displayName": "Harshvardhan Singh",
      "userId": "01021206035258477392"
     },
     "user_tz": -330
    },
    "id": "kaggle_download_code",
    "outputId": "70189f81-b6a4-4d28-b2ab-a6dcd9f5f45d"
   },
   "outputs": [
    {
     "data": {
      "text/plain": [
       "'# Download the dataset from the \\'house-prices-advanced-regression-techniques\\' competition\\n!kaggle competitions download -c house-prices-advanced-regression-techniques\\n\\n# Unzip the downloaded files\\n!unzip -o house-prices-advanced-regression-techniques.zip\\n\\nprint(\"\\nDataset downloaded and unzipped.\")'"
      ]
     },
     "execution_count": 3,
     "metadata": {},
     "output_type": "execute_result"
    }
   ],
   "source": [
    "'''# Download the dataset from the 'house-prices-advanced-regression-techniques' competition\n",
    "!kaggle competitions download -c house-prices-advanced-regression-techniques\n",
    "\n",
    "# Unzip the downloaded files\n",
    "!unzip -o house-prices-advanced-regression-techniques.zip\n",
    "\n",
    "print(\"\\nDataset downloaded and unzipped.\")'''"
   ]
  },
  {
   "cell_type": "code",
   "execution_count": 4,
   "metadata": {
    "colab": {
     "base_uri": "https://localhost:8080/",
     "height": 339
    },
    "executionInfo": {
     "elapsed": 232,
     "status": "ok",
     "timestamp": 1757513308428,
     "user": {
      "displayName": "Harshvardhan Singh",
      "userId": "01021206035258477392"
     },
     "user_tz": -330
    },
    "id": "load_data_code_corrected",
    "outputId": "c7f82de7-6470-4998-8d88-176b6c287775"
   },
   "outputs": [
    {
     "name": "stdout",
     "output_type": "stream",
     "text": [
      "Training data shape: (1460, 80)\n",
      "Testing data shape: (1459, 79)\n",
      "Data loaded successfully:\n"
     ]
    },
    {
     "data": {
      "text/html": [
       "<div>\n",
       "<style scoped>\n",
       "    .dataframe tbody tr th:only-of-type {\n",
       "        vertical-align: middle;\n",
       "    }\n",
       "\n",
       "    .dataframe tbody tr th {\n",
       "        vertical-align: top;\n",
       "    }\n",
       "\n",
       "    .dataframe thead th {\n",
       "        text-align: right;\n",
       "    }\n",
       "</style>\n",
       "<table border=\"1\" class=\"dataframe\">\n",
       "  <thead>\n",
       "    <tr style=\"text-align: right;\">\n",
       "      <th></th>\n",
       "      <th>MSSubClass</th>\n",
       "      <th>MSZoning</th>\n",
       "      <th>LotFrontage</th>\n",
       "      <th>LotArea</th>\n",
       "      <th>Street</th>\n",
       "      <th>Alley</th>\n",
       "      <th>LotShape</th>\n",
       "      <th>LandContour</th>\n",
       "      <th>Utilities</th>\n",
       "      <th>LotConfig</th>\n",
       "      <th>...</th>\n",
       "      <th>PoolArea</th>\n",
       "      <th>PoolQC</th>\n",
       "      <th>Fence</th>\n",
       "      <th>MiscFeature</th>\n",
       "      <th>MiscVal</th>\n",
       "      <th>MoSold</th>\n",
       "      <th>YrSold</th>\n",
       "      <th>SaleType</th>\n",
       "      <th>SaleCondition</th>\n",
       "      <th>SalePrice</th>\n",
       "    </tr>\n",
       "    <tr>\n",
       "      <th>Id</th>\n",
       "      <th></th>\n",
       "      <th></th>\n",
       "      <th></th>\n",
       "      <th></th>\n",
       "      <th></th>\n",
       "      <th></th>\n",
       "      <th></th>\n",
       "      <th></th>\n",
       "      <th></th>\n",
       "      <th></th>\n",
       "      <th></th>\n",
       "      <th></th>\n",
       "      <th></th>\n",
       "      <th></th>\n",
       "      <th></th>\n",
       "      <th></th>\n",
       "      <th></th>\n",
       "      <th></th>\n",
       "      <th></th>\n",
       "      <th></th>\n",
       "      <th></th>\n",
       "    </tr>\n",
       "  </thead>\n",
       "  <tbody>\n",
       "    <tr>\n",
       "      <th>1</th>\n",
       "      <td>60</td>\n",
       "      <td>RL</td>\n",
       "      <td>65.0</td>\n",
       "      <td>8450</td>\n",
       "      <td>Pave</td>\n",
       "      <td>NaN</td>\n",
       "      <td>Reg</td>\n",
       "      <td>Lvl</td>\n",
       "      <td>AllPub</td>\n",
       "      <td>Inside</td>\n",
       "      <td>...</td>\n",
       "      <td>0</td>\n",
       "      <td>NaN</td>\n",
       "      <td>NaN</td>\n",
       "      <td>NaN</td>\n",
       "      <td>0</td>\n",
       "      <td>2</td>\n",
       "      <td>2008</td>\n",
       "      <td>WD</td>\n",
       "      <td>Normal</td>\n",
       "      <td>208500</td>\n",
       "    </tr>\n",
       "    <tr>\n",
       "      <th>2</th>\n",
       "      <td>20</td>\n",
       "      <td>RL</td>\n",
       "      <td>80.0</td>\n",
       "      <td>9600</td>\n",
       "      <td>Pave</td>\n",
       "      <td>NaN</td>\n",
       "      <td>Reg</td>\n",
       "      <td>Lvl</td>\n",
       "      <td>AllPub</td>\n",
       "      <td>FR2</td>\n",
       "      <td>...</td>\n",
       "      <td>0</td>\n",
       "      <td>NaN</td>\n",
       "      <td>NaN</td>\n",
       "      <td>NaN</td>\n",
       "      <td>0</td>\n",
       "      <td>5</td>\n",
       "      <td>2007</td>\n",
       "      <td>WD</td>\n",
       "      <td>Normal</td>\n",
       "      <td>181500</td>\n",
       "    </tr>\n",
       "    <tr>\n",
       "      <th>3</th>\n",
       "      <td>60</td>\n",
       "      <td>RL</td>\n",
       "      <td>68.0</td>\n",
       "      <td>11250</td>\n",
       "      <td>Pave</td>\n",
       "      <td>NaN</td>\n",
       "      <td>IR1</td>\n",
       "      <td>Lvl</td>\n",
       "      <td>AllPub</td>\n",
       "      <td>Inside</td>\n",
       "      <td>...</td>\n",
       "      <td>0</td>\n",
       "      <td>NaN</td>\n",
       "      <td>NaN</td>\n",
       "      <td>NaN</td>\n",
       "      <td>0</td>\n",
       "      <td>9</td>\n",
       "      <td>2008</td>\n",
       "      <td>WD</td>\n",
       "      <td>Normal</td>\n",
       "      <td>223500</td>\n",
       "    </tr>\n",
       "    <tr>\n",
       "      <th>4</th>\n",
       "      <td>70</td>\n",
       "      <td>RL</td>\n",
       "      <td>60.0</td>\n",
       "      <td>9550</td>\n",
       "      <td>Pave</td>\n",
       "      <td>NaN</td>\n",
       "      <td>IR1</td>\n",
       "      <td>Lvl</td>\n",
       "      <td>AllPub</td>\n",
       "      <td>Corner</td>\n",
       "      <td>...</td>\n",
       "      <td>0</td>\n",
       "      <td>NaN</td>\n",
       "      <td>NaN</td>\n",
       "      <td>NaN</td>\n",
       "      <td>0</td>\n",
       "      <td>2</td>\n",
       "      <td>2006</td>\n",
       "      <td>WD</td>\n",
       "      <td>Abnorml</td>\n",
       "      <td>140000</td>\n",
       "    </tr>\n",
       "    <tr>\n",
       "      <th>5</th>\n",
       "      <td>60</td>\n",
       "      <td>RL</td>\n",
       "      <td>84.0</td>\n",
       "      <td>14260</td>\n",
       "      <td>Pave</td>\n",
       "      <td>NaN</td>\n",
       "      <td>IR1</td>\n",
       "      <td>Lvl</td>\n",
       "      <td>AllPub</td>\n",
       "      <td>FR2</td>\n",
       "      <td>...</td>\n",
       "      <td>0</td>\n",
       "      <td>NaN</td>\n",
       "      <td>NaN</td>\n",
       "      <td>NaN</td>\n",
       "      <td>0</td>\n",
       "      <td>12</td>\n",
       "      <td>2008</td>\n",
       "      <td>WD</td>\n",
       "      <td>Normal</td>\n",
       "      <td>250000</td>\n",
       "    </tr>\n",
       "  </tbody>\n",
       "</table>\n",
       "<p>5 rows × 80 columns</p>\n",
       "</div>"
      ],
      "text/plain": [
       "    MSSubClass MSZoning  LotFrontage  LotArea Street Alley LotShape  \\\n",
       "Id                                                                    \n",
       "1           60       RL         65.0     8450   Pave   NaN      Reg   \n",
       "2           20       RL         80.0     9600   Pave   NaN      Reg   \n",
       "3           60       RL         68.0    11250   Pave   NaN      IR1   \n",
       "4           70       RL         60.0     9550   Pave   NaN      IR1   \n",
       "5           60       RL         84.0    14260   Pave   NaN      IR1   \n",
       "\n",
       "   LandContour Utilities LotConfig  ... PoolArea PoolQC Fence MiscFeature  \\\n",
       "Id                                  ...                                     \n",
       "1          Lvl    AllPub    Inside  ...        0    NaN   NaN         NaN   \n",
       "2          Lvl    AllPub       FR2  ...        0    NaN   NaN         NaN   \n",
       "3          Lvl    AllPub    Inside  ...        0    NaN   NaN         NaN   \n",
       "4          Lvl    AllPub    Corner  ...        0    NaN   NaN         NaN   \n",
       "5          Lvl    AllPub       FR2  ...        0    NaN   NaN         NaN   \n",
       "\n",
       "   MiscVal MoSold  YrSold  SaleType  SaleCondition  SalePrice  \n",
       "Id                                                             \n",
       "1        0      2    2008        WD         Normal     208500  \n",
       "2        0      5    2007        WD         Normal     181500  \n",
       "3        0      9    2008        WD         Normal     223500  \n",
       "4        0      2    2006        WD        Abnorml     140000  \n",
       "5        0     12    2008        WD         Normal     250000  \n",
       "\n",
       "[5 rows x 80 columns]"
      ]
     },
     "execution_count": 4,
     "metadata": {},
     "output_type": "execute_result"
    }
   ],
   "source": [
    "# Now, load the data from the unzipped CSV files\n",
    "train_df = pd.read_csv('train.csv')\n",
    "test_df = pd.read_csv('test.csv')\n",
    "\n",
    "# Set the 'Id' column as the index for consistency\n",
    "train_df.set_index('Id', inplace=True)\n",
    "test_df.set_index('Id', inplace=True)\n",
    "\n",
    "print(f\"Training data shape: {train_df.shape}\")\n",
    "print(f\"Testing data shape: {test_df.shape}\")\n",
    "\n",
    "print(\"Data loaded successfully:\")\n",
    "train_df.head()"
   ]
  },
  {
   "cell_type": "markdown",
   "metadata": {
    "id": "_jvLfygPcrr3"
   },
   "source": [
    "* SalePrice - the property's sale price in dollars. This is the target variable that you're trying to predict.\n",
    "* MSSubClass: The building class\n",
    "* MSZoning: The general zoning classification\n",
    "* LotFrontage: Linear feet of street connected to property\n",
    "* LotArea: Lot size in square feet\n",
    "* Street: Type of road access\n",
    "* Alley: Type of alley access\n",
    "* LotShape: General shape of property\n",
    "* LandContour: Flatness of the property\n",
    "* Utilities: Type of utilities available\n",
    "* LotConfig: Lot configuration\n",
    "* LandSlope: Slope of property\n",
    "* Neighborhood: Physical locations within Ames city limits\n",
    "* Condition1: Proximity to main road or railroad\n",
    "* Condition2: Proximity to main road or railroad (if a second is present)\n",
    "* BldgType: Type of dwelling\n",
    "* HouseStyle: Style of dwelling\n",
    "* OverallQual: Overall material and finish quality\n",
    "* OverallCond: Overall condition rating\n",
    "* YearBuilt: Original construction date\n",
    "* YearRemodAdd: Remodel date\n",
    "* RoofStyle: Type of roof\n",
    "* RoofMatl: Roof material\n",
    "* Exterior1st: Exterior covering on house\n",
    "* Exterior2nd: Exterior covering on house (if more than one material)\n",
    "* MasVnrType: Masonry veneer type\n",
    "* MasVnrArea: Masonry veneer area in square feet\n",
    "* ExterQual: Exterior material quality\n",
    "* ExterCond: Present condition of the material on the exterior\n",
    "* Foundation: Type of foundation\n",
    "* BsmtQual: Height of the basement\n",
    "* BsmtCond: General condition of the basement\n",
    "* BsmtExposure: Walkout or garden level basement walls\n",
    "* BsmtFinType1: Quality of basement finished area\n",
    "* BsmtFinSF1: Type 1 finished square feet\n",
    "* BsmtFinType2: Quality of second finished area (if present)\n",
    "* BsmtFinSF2: Type 2 finished square feet\n",
    "* BsmtUnfSF: Unfinished square feet of basement area\n",
    "* TotalBsmtSF: Total square feet of basement area\n",
    "* Heating: Type of heating\n",
    "* HeatingQC: Heating quality and condition\n",
    "* CentralAir: Central air conditioning\n",
    "* Electrical: Electrical system\n",
    "* 1stFlrSF: First Floor square feet\n",
    "* 2ndFlrSF: Second floor square feet\n",
    "* LowQualFinSF: Low quality finished square feet (all floors)\n",
    "* GrLivArea: Above grade (ground) living area square feet\n",
    "* BsmtFullBath: Basement full bathrooms\n",
    "* BsmtHalfBath: Basement half bathrooms\n",
    "* FullBath: Full bathrooms above grade\n",
    "* HalfBath: Half baths above grade\n",
    "* Bedroom: Number of bedrooms above basement level\n",
    "* Kitchen: Number of kitchens\n",
    "* KitchenQual: Kitchen quality\n",
    "* TotRmsAbvGrd: Total rooms above grade (does not include bathrooms)\n",
    "* Functional: Home functionality rating\n",
    "* Fireplaces: Number of fireplaces\n",
    "* FireplaceQu: Fireplace quality\n",
    "* GarageType: Garage location\n",
    "* GarageYrBlt: Year garage was built\n",
    "* GarageFinish: Interior finish of the garage\n",
    "* GarageCars: Size of garage in car capacity\n",
    "* GarageArea: Size of garage in square feet\n",
    "* GarageQual: Garage quality\n",
    "* GarageCond: Garage condition\n",
    "* PavedDrive: Paved driveway\n",
    "* WoodDeckSF: Wood deck area in square feet\n",
    "* OpenPorchSF: Open porch area in square feet\n",
    "* EnclosedPorch: Enclosed porch area in square feet\n",
    "* 3SsnPorch: Three season porch area in square feet\n",
    "* ScreenPorch: Screen porch area in square feet\n",
    "* PoolArea: Pool area in square feet\n",
    "* PoolQC: Pool quality\n",
    "* Fence: Fence quality\n",
    "* MiscFeature: Miscellaneous feature not covered in other categories\n",
    "* MiscVal: $Value of miscellaneous feature\n",
    "* MoSold: Month Sold\n",
    "* YrSold: Year Sold\n",
    "* SaleType: Type of sale\n",
    "* SaleCondition: Condition of sale"
   ]
  },
  {
   "cell_type": "markdown",
   "metadata": {
    "id": "eda_target_markdown"
   },
   "source": [
    "### Step 3: Deep Dive EDA on the Target Variable (`SalePrice`)\n",
    "The most important variable in our dataset is the one we want to predict. Understanding its characteristics is the first and most critical step in any regression problem."
   ]
  },
  {
   "cell_type": "code",
   "execution_count": 5,
   "metadata": {
    "colab": {
     "base_uri": "https://localhost:8080/",
     "height": 581
    },
    "executionInfo": {
     "elapsed": 800,
     "status": "ok",
     "timestamp": 1757513411741,
     "user": {
      "displayName": "Harshvardhan Singh",
      "userId": "01021206035258477392"
     },
     "user_tz": -330
    },
    "id": "eda_target_code",
    "outputId": "59b2b942-de4e-4b25-eb8c-354c83477df0"
   },
   "outputs": [
    {
     "data": {
      "image/png": "[encoded data removed]",
      "text/plain": [
       "<Figure size 1400x600 with 1 Axes>"
      ]
     },
     "metadata": {},
     "output_type": "display_data"
    },
    {
     "name": "stdout",
     "output_type": "stream",
     "text": [
      "Skewness of SalePrice: 1.8828757597682129\n"
     ]
    }
   ],
   "source": [
    "plt.figure(figsize=(14, 6))\n",
    "sns.histplot(train_df['SalePrice'], kde=True, bins=50)\n",
    "plt.title('Distribution of SalePrice')\n",
    "plt.xlabel('Sale Price')\n",
    "plt.show()\n",
    "\n",
    "print(f\"Skewness of SalePrice: {train_df['SalePrice'].skew()}\")"
   ]
  },
  {
   "cell_type": "markdown",
   "metadata": {
    "id": "theory_skew"
   },
   "source": [
    "#### **Theoretical Concept: Skewness and Log Transformation**\n",
    "The distribution of `SalePrice` is **positively skewed** (or right-skewed). This means there's a long tail of very expensive houses, which can negatively impact the performance of some models, especially linear models like Linear Regression. These models often assume that the variables (and especially the residuals of the model) are normally distributed.\n",
    "\n",
    "To fix this, we can apply a **log transformation** (`np.log1p`, which is `log(1+x)` to handle potential zero values). This transformation compresses the range of large values, making the distribution more symmetrical and closer to a normal distribution."
   ]
  },
  {
   "cell_type": "code",
   "execution_count": 6,
   "metadata": {
    "colab": {
     "base_uri": "https://localhost:8080/",
     "height": 581
    },
    "executionInfo": {
     "elapsed": 612,
     "status": "ok",
     "timestamp": 1757513592827,
     "user": {
      "displayName": "Harshvardhan Singh",
      "userId": "01021206035258477392"
     },
     "user_tz": -330
    },
    "id": "log_transform_code",
    "outputId": "82bb51dd-cb89-4655-aec1-47478cf82bdd"
   },
   "outputs": [
    {
     "data": {
      "image/png": "[encoded data removed]",
      "text/plain": [
       "<Figure size 1400x600 with 1 Axes>"
      ]
     },
     "metadata": {},
     "output_type": "display_data"
    },
    {
     "name": "stdout",
     "output_type": "stream",
     "text": [
      "Skewness of Log-Transformed SalePrice: 0.12134661989685333\n"
     ]
    }
   ],
   "source": [
    "train_df['SalePrice'] = np.log1p(train_df['SalePrice'])\n",
    "\n",
    "plt.figure(figsize=(14, 6))\n",
    "sns.histplot(train_df['SalePrice'], kde=True, bins=50, color='green')\n",
    "plt.title('Distribution of Log-Transformed SalePrice')\n",
    "plt.xlabel('Log(Sale Price)')\n",
    "plt.show()\n",
    "\n",
    "print(f\"Skewness of Log-Transformed SalePrice: {train_df['SalePrice'].skew()}\")"
   ]
  },
  {
   "cell_type": "markdown",
   "metadata": {
    "id": "log_transform_summary"
   },
   "source": [
    "**Observation:** After the log transformation, the distribution is much closer to a normal distribution, with skewness close to 0. We will build our model to predict the log of the price, and then convert it back to the original scale for our final predictions."
   ]
  },
  {
   "cell_type": "markdown",
   "metadata": {
    "id": "eda_features_markdown"
   },
   "source": [
    "### Step 4: EDA on Feature Variables"
   ]
  },
  {
   "cell_type": "code",
   "execution_count": 7,
   "metadata": {
    "colab": {
     "base_uri": "https://localhost:8080/",
     "height": 943
    },
    "executionInfo": {
     "elapsed": 1006,
     "status": "ok",
     "timestamp": 1757513596296,
     "user": {
      "displayName": "Harshvardhan Singh",
      "userId": "01021206035258477392"
     },
     "user_tz": -330
    },
    "id": "correlation_code",
    "outputId": "9c353520-e617-4816-ee43-c39a8d7b4432"
   },
   "outputs": [
    {
     "data": {
      "image/png": "[encoded data removed]",
      "text/plain": [
       "<Figure size 1200x1000 with 2 Axes>"
      ]
     },
     "metadata": {},
     "output_type": "display_data"
    }
   ],
   "source": [
    "# Find the top 10 features most correlated with SalePrice\n",
    "corrmat = train_df.corr(numeric_only=True)\n",
    "top_corr_features = corrmat.nlargest(10, 'SalePrice')['SalePrice'].index\n",
    "top_corr_matrix = train_df[top_corr_features].corr()\n",
    "\n",
    "plt.figure(figsize=(12, 10))\n",
    "sns.heatmap(top_corr_matrix, annot=True, cmap='coolwarm', fmt='.2f')\n",
    "plt.title('Correlation Matrix of Top 10 Features with SalePrice')\n",
    "plt.show()"
   ]
  },
  {
   "cell_type": "markdown",
   "metadata": {
    "id": "correlation_summary"
   },
   "source": [
    "**Insight:** The heatmap shows that `OverallQual` (Overall Quality), `GrLivArea` (Above Ground Living Area), and `GarageCars`/`GarageArea` are the most positively correlated features with `SalePrice`. This makes intuitive sense—better quality, larger houses with bigger garages tend to be more expensive."
   ]
  },
  {
   "cell_type": "markdown",
   "metadata": {
    "id": "preprocessing_markdown"
   },
   "source": [
    "### Step 5: Data Preprocessing & Feature Engineering\n",
    "This is the most intensive part of the project. We will handle missing values, create new features, and encode categorical variables to prepare the data for modeling."
   ]
  },
  {
   "cell_type": "code",
   "execution_count": 8,
   "metadata": {
    "colab": {
     "base_uri": "https://localhost:8080/"
    },
    "executionInfo": {
     "elapsed": 31,
     "status": "ok",
     "timestamp": 1757513597233,
     "user": {
      "displayName": "Harshvardhan Singh",
      "userId": "01021206035258477392"
     },
     "user_tz": -330
    },
    "id": "combine_dfs_code",
    "outputId": "aa769950-0bdf-4585-a192-5303d46806d8"
   },
   "outputs": [
    {
     "name": "stdout",
     "output_type": "stream",
     "text": [
      "Combined data shape: (2919, 79)\n"
     ]
    }
   ],
   "source": [
    "# Combine train and test data for consistent preprocessing\n",
    "all_data = pd.concat((train_df.loc[:,:'SaleCondition'],\n",
    "                      test_df.loc[:,:'SaleCondition']))\n",
    "\n",
    "print(f\"Combined data shape: {all_data.shape}\")"
   ]
  },
  {
   "cell_type": "markdown",
   "metadata": {
    "id": "o-V_pSdXNgof"
   },
   "source": [
    "Combining the data this way ensures that any preprocessing steps (like handling missing values or encoding categorical features) are applied consistently across both the training and testing datasets, preventing data leakage and potential issues later in the modeling process."
   ]
  },
  {
   "cell_type": "markdown",
   "metadata": {
    "id": "missing_values_markdown"
   },
   "source": [
    "#### 5.1 Handling Missing Values"
   ]
  },
  {
   "cell_type": "code",
   "execution_count": 9,
   "metadata": {
    "colab": {
     "base_uri": "https://localhost:8080/"
    },
    "executionInfo": {
     "elapsed": 24,
     "status": "ok",
     "timestamp": 1757513598904,
     "user": {
      "displayName": "Harshvardhan Singh",
      "userId": "01021206035258477392"
     },
     "user_tz": -330
    },
    "id": "D8uFvCwQNkCN",
    "outputId": "4784ea6f-e782-4c28-e2b3-aa7e082a10ce"
   },
   "outputs": [
    {
     "name": "stdout",
     "output_type": "stream",
     "text": [
      "Features with missing values:\n",
      "PoolQC          2909\n",
      "MiscFeature     2814\n",
      "Alley           2721\n",
      "Fence           2348\n",
      "MasVnrType      1766\n",
      "FireplaceQu     1420\n",
      "LotFrontage      486\n",
      "GarageCond       159\n",
      "GarageFinish     159\n",
      "GarageYrBlt      159\n",
      "GarageQual       159\n",
      "GarageType       157\n",
      "BsmtExposure      82\n",
      "BsmtCond          82\n",
      "BsmtQual          81\n",
      "BsmtFinType2      80\n",
      "BsmtFinType1      79\n",
      "MasVnrArea        23\n",
      "MSZoning           4\n",
      "BsmtHalfBath       2\n",
      "Functional         2\n",
      "BsmtFullBath       2\n",
      "Utilities          2\n",
      "Exterior1st        1\n",
      "TotalBsmtSF        1\n",
      "BsmtUnfSF          1\n",
      "BsmtFinSF1         1\n",
      "SaleType           1\n",
      "KitchenQual        1\n",
      "GarageCars         1\n",
      "GarageArea         1\n",
      "Electrical         1\n",
      "Exterior2nd        1\n",
      "BsmtFinSF2         1\n",
      "dtype: int64\n"
     ]
    }
   ],
   "source": [
    "# Find missing values in the current all_data\n",
    "missing_data = all_data.isnull().sum().sort_values(ascending=False)\n",
    "missing_data = missing_data[missing_data > 0]\n",
    "\n",
    "print(\"Features with missing values:\")\n",
    "print(missing_data)"
   ]
  },
  {
   "cell_type": "code",
   "execution_count": 10,
   "metadata": {
    "executionInfo": {
     "elapsed": 12,
     "status": "ok",
     "timestamp": 1757513599554,
     "user": {
      "displayName": "Harshvardhan Singh",
      "userId": "01021206035258477392"
     },
     "user_tz": -330
    },
    "id": "6e3xpQIHN1f-"
   },
   "outputs": [],
   "source": [
    "# Impute numerical features with 0\n",
    "numerical_cols_to_impute_zero = ['MasVnrArea', 'BsmtFinSF1', 'BsmtFinSF2', 'BsmtUnfSF', 'TotalBsmtSF', 'GarageCars', 'GarageArea', 'BsmtFullBath', 'BsmtHalfBath']\n",
    "for col in numerical_cols_to_impute_zero:\n",
    "    if col in all_data.columns:\n",
    "        all_data[col] = all_data[col].fillna(0)"
   ]
  },
  {
   "cell_type": "code",
   "execution_count": 11,
   "metadata": {
    "colab": {
     "base_uri": "https://localhost:8080/",
     "height": 366
    },
    "executionInfo": {
     "elapsed": 30,
     "status": "ok",
     "timestamp": 1757513600277,
     "user": {
      "displayName": "Harshvardhan Singh",
      "userId": "01021206035258477392"
     },
     "user_tz": -330
    },
    "id": "oo9sFMw-O4Ri",
    "outputId": "6567364b-8ba4-498a-bb34-0656f417d04d"
   },
   "outputs": [
    {
     "data": {
      "text/plain": [
       "MasVnrArea      0\n",
       "BsmtFinSF1      0\n",
       "BsmtFinSF2      0\n",
       "BsmtUnfSF       0\n",
       "TotalBsmtSF     0\n",
       "GarageCars      0\n",
       "GarageArea      0\n",
       "BsmtFullBath    0\n",
       "BsmtHalfBath    0\n",
       "dtype: int64"
      ]
     },
     "execution_count": 11,
     "metadata": {},
     "output_type": "execute_result"
    }
   ],
   "source": [
    "# Check missing values in numerical columns after imputation with 0\n",
    "all_data[numerical_cols_to_impute_zero].isnull().sum()"
   ]
  },
  {
   "cell_type": "code",
   "execution_count": 12,
   "metadata": {
    "colab": {
     "base_uri": "https://localhost:8080/",
     "height": 490
    },
    "executionInfo": {
     "elapsed": 7,
     "status": "ok",
     "timestamp": 1757513601377,
     "user": {
      "displayName": "Harshvardhan Singh",
      "userId": "01021206035258477392"
     },
     "user_tz": -330
    },
    "id": "BW1f-BElRdzf",
    "outputId": "ec14c5b4-90ac-4e92-843a-9221439f3df5"
   },
   "outputs": [
    {
     "data": {
      "text/plain": [
       "LotFrontage\n",
       "60.0     276\n",
       "80.0     137\n",
       "70.0     133\n",
       "50.0     117\n",
       "75.0     105\n",
       "        ... \n",
       "155.0      1\n",
       "126.0      1\n",
       "200.0      1\n",
       "131.0      1\n",
       "133.0      1\n",
       "Name: count, Length: 128, dtype: int64"
      ]
     },
     "execution_count": 12,
     "metadata": {},
     "output_type": "execute_result"
    }
   ],
   "source": [
    "all_data['LotFrontage'].value_counts()"
   ]
  },
  {
   "cell_type": "code",
   "execution_count": 13,
   "metadata": {
    "executionInfo": {
     "elapsed": 20,
     "status": "ok",
     "timestamp": 1757513601950,
     "user": {
      "displayName": "Harshvardhan Singh",
      "userId": "01021206035258477392"
     },
     "user_tz": -330
    },
    "id": "p9qW4dMjORAv"
   },
   "outputs": [],
   "source": [
    "# Impute LotFrontage with the median of the neighborhood\n",
    "if 'LotFrontage' in all_data.columns and all_data['LotFrontage'].isnull().any():\n",
    "    all_data['LotFrontage'] = all_data.groupby('Neighborhood')['LotFrontage'].transform(lambda x: x.fillna(x.median()))"
   ]
  },
  {
   "cell_type": "markdown",
   "metadata": {
    "id": "ZT-6ZbaDR9_X"
   },
   "source": [
    "* **all_data.groupby('Neighborhood'):** This groups the DataFrame by the Neighborhood column. The assumption here is that houses in the same neighborhood tend to have similar LotFrontage values.\n",
    "* **.transform(lambda x: x.fillna(x.median())):** This is the core imputation step. For each neighborhood group (x represents the LotFrontage Series for that group), it calculates the median of the existing LotFrontage values in that group (x.median()) and then fills the missing values (x.fillna(...)) within that same group with that calculated median. The transform function ensures that the result has the same index as the original DataFrame, allowing it to be assigned back to the LotFrontage column."
   ]
  },
  {
   "cell_type": "code",
   "execution_count": 14,
   "metadata": {
    "colab": {
     "base_uri": "https://localhost:8080/",
     "height": 178
    },
    "executionInfo": {
     "elapsed": 8,
     "status": "ok",
     "timestamp": 1757513603736,
     "user": {
      "displayName": "Harshvardhan Singh",
      "userId": "01021206035258477392"
     },
     "user_tz": -330
    },
    "id": "AY02_mYySZty",
    "outputId": "b2fdefb2-5c01-419f-bd28-796df33abc8d"
   },
   "outputs": [
    {
     "data": {
      "text/plain": [
       "Alley\n",
       "Grvl    120\n",
       "Pave     78\n",
       "Name: count, dtype: int64"
      ]
     },
     "execution_count": 14,
     "metadata": {},
     "output_type": "execute_result"
    }
   ],
   "source": [
    "all_data['Alley'].value_counts()"
   ]
  },
  {
   "cell_type": "code",
   "execution_count": 15,
   "metadata": {
    "colab": {
     "base_uri": "https://localhost:8080/",
     "height": 490
    },
    "executionInfo": {
     "elapsed": 34,
     "status": "ok",
     "timestamp": 1757513604534,
     "user": {
      "displayName": "Harshvardhan Singh",
      "userId": "01021206035258477392"
     },
     "user_tz": -330
    },
    "id": "DLaMBt5-W8u4",
    "outputId": "f8516f4e-e961-4824-cb50-eba2a35e6a43"
   },
   "outputs": [
    {
     "data": {
      "text/plain": [
       "Id\n",
       "1       SBrkr\n",
       "2       SBrkr\n",
       "3       SBrkr\n",
       "4       SBrkr\n",
       "5       SBrkr\n",
       "        ...  \n",
       "2915    SBrkr\n",
       "2916    SBrkr\n",
       "2917    SBrkr\n",
       "2918    SBrkr\n",
       "2919    SBrkr\n",
       "Name: Electrical, Length: 2919, dtype: object"
      ]
     },
     "execution_count": 15,
     "metadata": {},
     "output_type": "execute_result"
    }
   ],
   "source": [
    "all_data['Electrical']"
   ]
  },
  {
   "cell_type": "code",
   "execution_count": 16,
   "metadata": {
    "executionInfo": {
     "elapsed": 78,
     "status": "ok",
     "timestamp": 1757513608488,
     "user": {
      "displayName": "Harshvardhan Singh",
      "userId": "01021206035258477392"
     },
     "user_tz": -330
    },
    "id": "-CxGVZqUOXdK"
   },
   "outputs": [],
   "source": [
    "# Impute categorical features with 'None' (for features where NA means 'no') or mode (for features where NA means missing data)\n",
    "categorical_cols_to_impute_none = ['Alley', 'Fence', 'MiscFeature', 'PoolQC', 'FireplaceQu', 'GarageType', 'GarageFinish', 'GarageQual', 'GarageCond', 'BsmtQual', 'BsmtCond', 'BsmtExposure', 'BsmtFinType1', 'BsmtFinType2', 'MasVnrType']\n",
    "for col in categorical_cols_to_impute_none:\n",
    "    if col in all_data.columns: # Check if column exists after one-hot encoding\n",
    "        all_data[col] = all_data[col].fillna('None')\n",
    "\n",
    "for col in ['Electrical', 'KitchenQual', 'Exterior1st', 'Exterior2nd', 'SaleType', 'Utilities', 'Functional', 'MSZoning']:\n",
    "    if col in all_data.columns: # Check if column exists after one-hot encoding\n",
    "        all_data[col] = all_data[col].fillna(all_data[col].mode()[0])"
   ]
  },
  {
   "cell_type": "code",
   "execution_count": 17,
   "metadata": {
    "colab": {
     "base_uri": "https://localhost:8080/"
    },
    "executionInfo": {
     "elapsed": 27,
     "status": "ok",
     "timestamp": 1757513608779,
     "user": {
      "displayName": "Harshvardhan Singh",
      "userId": "01021206035258477392"
     },
     "user_tz": -330
    },
    "id": "missing_values_code",
    "outputId": "a648bfab-83dd-45a1-b056-20537d8e773f"
   },
   "outputs": [
    {
     "name": "stdout",
     "output_type": "stream",
     "text": [
      "\n",
      "Missing values after all imputation: 0\n"
     ]
    }
   ],
   "source": [
    "# Based on the likely remaining missing values (GarageYrBlt), impute the remaining numerical features.\n",
    "# GarageYrBlt can be imputed with 0 (assuming 0 means no garage, consistent with GarageArea/Cars=0)\n",
    "if 'GarageYrBlt' in all_data.columns:\n",
    "    all_data['GarageYrBlt'] = all_data['GarageYrBlt'].fillna(0)\n",
    "\n",
    "\n",
    "print(\"\\nMissing values after all imputation:\", all_data.isnull().sum().sum())"
   ]
  },
  {
   "cell_type": "markdown",
   "metadata": {
    "id": "feature_eng_markdown"
   },
   "source": [
    "#### 5.2 Feature Engineering"
   ]
  },
  {
   "cell_type": "code",
   "execution_count": 18,
   "metadata": {
    "colab": {
     "base_uri": "https://localhost:8080/"
    },
    "executionInfo": {
     "elapsed": 12,
     "status": "ok",
     "timestamp": 1757513611881,
     "user": {
      "displayName": "Harshvardhan Singh",
      "userId": "01021206035258477392"
     },
     "user_tz": -330
    },
    "id": "feature_eng_code",
    "outputId": "9ecd10d9-eb76-4e01-8f4a-eb259a80bccf"
   },
   "outputs": [
    {
     "name": "stdout",
     "output_type": "stream",
     "text": [
      "New features created.\n"
     ]
    }
   ],
   "source": [
    "# Create a total square footage feature\n",
    "all_data['TotalSF'] = all_data['TotalBsmtSF'] + all_data['1stFlrSF'] + all_data['2ndFlrSF']\n",
    "\n",
    "# Create a total bathrooms feature\n",
    "all_data['TotalBath'] = (all_data['FullBath'] + (0.5 * all_data['HalfBath']) +\n",
    "                         all_data['BsmtFullBath'] + (0.5 * all_data['BsmtHalfBath']))\n",
    "\n",
    "# Create a feature for age of the house at sale\n",
    "all_data['Age'] = all_data['YrSold'] - all_data['YearBuilt']\n",
    "\n",
    "print(\"New features created.\")"
   ]
  },
  {
   "cell_type": "markdown",
   "metadata": {
    "id": "categorical_encoding_markdown"
   },
   "source": [
    "#### 5.3 Categorical Encoding"
   ]
  },
  {
   "cell_type": "markdown",
   "metadata": {
    "id": "theory_encoding"
   },
   "source": [
    "#### **Theoretical Concept: Ordinal vs. Nominal Features**\n",
    "To use categorical features in a model, we must convert them to numbers. The method depends on the type of feature:\n",
    "1.  **Ordinal Features:** These have an inherent order (e.g., `Poor < Fair < Good < Excellent`). For these, we use **Label Encoding**, which assigns an integer to each category based on its order (e.g., `Poor=0, Fair=1, ...`).\n",
    "2.  **Nominal Features:** These have no inherent order (e.g., `Neighborhood`). Using Label Encoding would imply a false order. Instead, we use **One-Hot Encoding**, which creates a new binary (0/1) column for each category."
   ]
  },
  {
   "cell_type": "code",
   "execution_count": 19,
   "metadata": {
    "colab": {
     "base_uri": "https://localhost:8080/",
     "height": 899
    },
    "executionInfo": {
     "elapsed": 28,
     "status": "ok",
     "timestamp": 1757513721054,
     "user": {
      "displayName": "Harshvardhan Singh",
      "userId": "01021206035258477392"
     },
     "user_tz": -330
    },
    "id": "biFGrVwu-QB6",
    "outputId": "eb32bce0-2f88-4a47-f273-3d16a05f7d1f"
   },
   "outputs": [
    {
     "data": {
      "text/plain": [
       "Neighborhood\n",
       "NAmes      443\n",
       "CollgCr    267\n",
       "OldTown    239\n",
       "Edwards    194\n",
       "Somerst    182\n",
       "NridgHt    166\n",
       "Gilbert    165\n",
       "Sawyer     151\n",
       "NWAmes     131\n",
       "SawyerW    125\n",
       "Mitchel    114\n",
       "BrkSide    108\n",
       "Crawfor    103\n",
       "IDOTRR      93\n",
       "Timber      72\n",
       "NoRidge     71\n",
       "StoneBr     51\n",
       "SWISU       48\n",
       "ClearCr     44\n",
       "MeadowV     37\n",
       "BrDale      30\n",
       "Blmngtn     28\n",
       "Veenker     24\n",
       "NPkVill     23\n",
       "Blueste     10\n",
       "Name: count, dtype: int64"
      ]
     },
     "execution_count": 19,
     "metadata": {},
     "output_type": "execute_result"
    }
   ],
   "source": [
    "all_data['Neighborhood'].value_counts()"
   ]
  },
  {
   "cell_type": "code",
   "execution_count": 20,
   "metadata": {
    "colab": {
     "base_uri": "https://localhost:8080/"
    },
    "executionInfo": {
     "elapsed": 57,
     "status": "ok",
     "timestamp": 1757513868843,
     "user": {
      "displayName": "Harshvardhan Singh",
      "userId": "01021206035258477392"
     },
     "user_tz": -330
    },
    "id": "encoding_code",
    "outputId": "8785a126-75a9-462e-f09e-c39f729e1db2"
   },
   "outputs": [
    {
     "name": "stdout",
     "output_type": "stream",
     "text": [
      "Data shape after encoding: (2919, 262)\n"
     ]
    }
   ],
   "source": [
    "# Convert any remaining object columns to category type for one-hot encoding\n",
    "categorical_cols = all_data.select_dtypes(include=['object']).columns\n",
    "all_data = pd.get_dummies(all_data, columns=categorical_cols, drop_first=True)\n",
    "\n",
    "print(f\"Data shape after encoding: {all_data.shape}\")"
   ]
  },
  {
   "cell_type": "markdown",
   "metadata": {
    "id": "modeling_markdown"
   },
   "source": [
    "### Step 6: Model Building & Training"
   ]
  },
  {
   "cell_type": "code",
   "execution_count": 21,
   "metadata": {
    "id": "split_data_code"
   },
   "outputs": [],
   "source": [
    "# Separate the preprocessed data back into training and testing sets\n",
    "X = all_data[:len(train_df)]\n",
    "y = train_df['SalePrice'] # SalePrice was already log-transformed and is only in train_df\n",
    "X_test_final = all_data[len(train_df):]\n",
    "\n",
    "# Split the training data for validation\n",
    "X_train, X_val, y_train, y_val = train_test_split(X, y, test_size=0.2, random_state=42)"
   ]
  },
  {
   "cell_type": "markdown",
   "metadata": {
    "id": "theory_scaling"
   },
   "source": [
    "#### **Theoretical Concept: Feature Scaling**\n",
    "Many models, especially linear models and distance-based algorithms, perform better when numerical features are on a similar scale. **Standardization** (`StandardScaler`) is a common technique that transforms the data to have a mean of 0 and a standard deviation of 1. This prevents features with large scales (like `GrLivArea`) from dominating features with small scales (like `OverallQual`)."
   ]
  },
  {
   "cell_type": "code",
   "execution_count": 22,
   "metadata": {
    "id": "scaling_code"
   },
   "outputs": [],
   "source": [
    "scaler = StandardScaler()\n",
    "X_train_scaled = scaler.fit_transform(X_train)\n",
    "X_val_scaled = scaler.transform(X_val)\n",
    "X_test_final_scaled = scaler.transform(X_test_final)"
   ]
  },
  {
   "cell_type": "code",
   "execution_count": 23,
   "metadata": {
    "colab": {
     "base_uri": "https://localhost:8080/",
     "height": 475
    },
    "executionInfo": {
     "elapsed": 133,
     "status": "ok",
     "timestamp": 1757419642946,
     "user": {
      "displayName": "Harshvardhan Singh",
      "userId": "01021206035258477392"
     },
     "user_tz": -330
    },
    "id": "TaAeIeYWLa-w",
    "outputId": "f83b2353-a959-41a1-a2e7-9c12ecfebd12"
   },
   "outputs": [
    {
     "data": {
      "text/html": [
       "<div>\n",
       "<style scoped>\n",
       "    .dataframe tbody tr th:only-of-type {\n",
       "        vertical-align: middle;\n",
       "    }\n",
       "\n",
       "    .dataframe tbody tr th {\n",
       "        vertical-align: top;\n",
       "    }\n",
       "\n",
       "    .dataframe thead th {\n",
       "        text-align: right;\n",
       "    }\n",
       "</style>\n",
       "<table border=\"1\" class=\"dataframe\">\n",
       "  <thead>\n",
       "    <tr style=\"text-align: right;\">\n",
       "      <th></th>\n",
       "      <th>MSSubClass</th>\n",
       "      <th>LotFrontage</th>\n",
       "      <th>LotArea</th>\n",
       "      <th>OverallQual</th>\n",
       "      <th>OverallCond</th>\n",
       "      <th>YearBuilt</th>\n",
       "      <th>YearRemodAdd</th>\n",
       "      <th>MasVnrArea</th>\n",
       "      <th>BsmtFinSF1</th>\n",
       "      <th>BsmtFinSF2</th>\n",
       "      <th>...</th>\n",
       "      <th>SaleType_ConLI</th>\n",
       "      <th>SaleType_ConLw</th>\n",
       "      <th>SaleType_New</th>\n",
       "      <th>SaleType_Oth</th>\n",
       "      <th>SaleType_WD</th>\n",
       "      <th>SaleCondition_AdjLand</th>\n",
       "      <th>SaleCondition_Alloca</th>\n",
       "      <th>SaleCondition_Family</th>\n",
       "      <th>SaleCondition_Normal</th>\n",
       "      <th>SaleCondition_Partial</th>\n",
       "    </tr>\n",
       "    <tr>\n",
       "      <th>Id</th>\n",
       "      <th></th>\n",
       "      <th></th>\n",
       "      <th></th>\n",
       "      <th></th>\n",
       "      <th></th>\n",
       "      <th></th>\n",
       "      <th></th>\n",
       "      <th></th>\n",
       "      <th></th>\n",
       "      <th></th>\n",
       "      <th></th>\n",
       "      <th></th>\n",
       "      <th></th>\n",
       "      <th></th>\n",
       "      <th></th>\n",
       "      <th></th>\n",
       "      <th></th>\n",
       "      <th></th>\n",
       "      <th></th>\n",
       "      <th></th>\n",
       "      <th></th>\n",
       "    </tr>\n",
       "  </thead>\n",
       "  <tbody>\n",
       "    <tr>\n",
       "      <th>1</th>\n",
       "      <td>60</td>\n",
       "      <td>65.0</td>\n",
       "      <td>8450</td>\n",
       "      <td>7</td>\n",
       "      <td>5</td>\n",
       "      <td>2003</td>\n",
       "      <td>2003</td>\n",
       "      <td>196.0</td>\n",
       "      <td>706.0</td>\n",
       "      <td>0.0</td>\n",
       "      <td>...</td>\n",
       "      <td>False</td>\n",
       "      <td>False</td>\n",
       "      <td>False</td>\n",
       "      <td>False</td>\n",
       "      <td>True</td>\n",
       "      <td>False</td>\n",
       "      <td>False</td>\n",
       "      <td>False</td>\n",
       "      <td>True</td>\n",
       "      <td>False</td>\n",
       "    </tr>\n",
       "    <tr>\n",
       "      <th>2</th>\n",
       "      <td>20</td>\n",
       "      <td>80.0</td>\n",
       "      <td>9600</td>\n",
       "      <td>6</td>\n",
       "      <td>8</td>\n",
       "      <td>1976</td>\n",
       "      <td>1976</td>\n",
       "      <td>0.0</td>\n",
       "      <td>978.0</td>\n",
       "      <td>0.0</td>\n",
       "      <td>...</td>\n",
       "      <td>False</td>\n",
       "      <td>False</td>\n",
       "      <td>False</td>\n",
       "      <td>False</td>\n",
       "      <td>True</td>\n",
       "      <td>False</td>\n",
       "      <td>False</td>\n",
       "      <td>False</td>\n",
       "      <td>True</td>\n",
       "      <td>False</td>\n",
       "    </tr>\n",
       "    <tr>\n",
       "      <th>3</th>\n",
       "      <td>60</td>\n",
       "      <td>68.0</td>\n",
       "      <td>11250</td>\n",
       "      <td>7</td>\n",
       "      <td>5</td>\n",
       "      <td>2001</td>\n",
       "      <td>2002</td>\n",
       "      <td>162.0</td>\n",
       "      <td>486.0</td>\n",
       "      <td>0.0</td>\n",
       "      <td>...</td>\n",
       "      <td>False</td>\n",
       "      <td>False</td>\n",
       "      <td>False</td>\n",
       "      <td>False</td>\n",
       "      <td>True</td>\n",
       "      <td>False</td>\n",
       "      <td>False</td>\n",
       "      <td>False</td>\n",
       "      <td>True</td>\n",
       "      <td>False</td>\n",
       "    </tr>\n",
       "    <tr>\n",
       "      <th>4</th>\n",
       "      <td>70</td>\n",
       "      <td>60.0</td>\n",
       "      <td>9550</td>\n",
       "      <td>7</td>\n",
       "      <td>5</td>\n",
       "      <td>1915</td>\n",
       "      <td>1970</td>\n",
       "      <td>0.0</td>\n",
       "      <td>216.0</td>\n",
       "      <td>0.0</td>\n",
       "      <td>...</td>\n",
       "      <td>False</td>\n",
       "      <td>False</td>\n",
       "      <td>False</td>\n",
       "      <td>False</td>\n",
       "      <td>True</td>\n",
       "      <td>False</td>\n",
       "      <td>False</td>\n",
       "      <td>False</td>\n",
       "      <td>False</td>\n",
       "      <td>False</td>\n",
       "    </tr>\n",
       "    <tr>\n",
       "      <th>5</th>\n",
       "      <td>60</td>\n",
       "      <td>84.0</td>\n",
       "      <td>14260</td>\n",
       "      <td>8</td>\n",
       "      <td>5</td>\n",
       "      <td>2000</td>\n",
       "      <td>2000</td>\n",
       "      <td>350.0</td>\n",
       "      <td>655.0</td>\n",
       "      <td>0.0</td>\n",
       "      <td>...</td>\n",
       "      <td>False</td>\n",
       "      <td>False</td>\n",
       "      <td>False</td>\n",
       "      <td>False</td>\n",
       "      <td>True</td>\n",
       "      <td>False</td>\n",
       "      <td>False</td>\n",
       "      <td>False</td>\n",
       "      <td>True</td>\n",
       "      <td>False</td>\n",
       "    </tr>\n",
       "    <tr>\n",
       "      <th>...</th>\n",
       "      <td>...</td>\n",
       "      <td>...</td>\n",
       "      <td>...</td>\n",
       "      <td>...</td>\n",
       "      <td>...</td>\n",
       "      <td>...</td>\n",
       "      <td>...</td>\n",
       "      <td>...</td>\n",
       "      <td>...</td>\n",
       "      <td>...</td>\n",
       "      <td>...</td>\n",
       "      <td>...</td>\n",
       "      <td>...</td>\n",
       "      <td>...</td>\n",
       "      <td>...</td>\n",
       "      <td>...</td>\n",
       "      <td>...</td>\n",
       "      <td>...</td>\n",
       "      <td>...</td>\n",
       "      <td>...</td>\n",
       "      <td>...</td>\n",
       "    </tr>\n",
       "    <tr>\n",
       "      <th>1456</th>\n",
       "      <td>60</td>\n",
       "      <td>62.0</td>\n",
       "      <td>7917</td>\n",
       "      <td>6</td>\n",
       "      <td>5</td>\n",
       "      <td>1999</td>\n",
       "      <td>2000</td>\n",
       "      <td>0.0</td>\n",
       "      <td>0.0</td>\n",
       "      <td>0.0</td>\n",
       "      <td>...</td>\n",
       "      <td>False</td>\n",
       "      <td>False</td>\n",
       "      <td>False</td>\n",
       "      <td>False</td>\n",
       "      <td>True</td>\n",
       "      <td>False</td>\n",
       "      <td>False</td>\n",
       "      <td>False</td>\n",
       "      <td>True</td>\n",
       "      <td>False</td>\n",
       "    </tr>\n",
       "    <tr>\n",
       "      <th>1457</th>\n",
       "      <td>20</td>\n",
       "      <td>85.0</td>\n",
       "      <td>13175</td>\n",
       "      <td>6</td>\n",
       "      <td>6</td>\n",
       "      <td>1978</td>\n",
       "      <td>1988</td>\n",
       "      <td>119.0</td>\n",
       "      <td>790.0</td>\n",
       "      <td>163.0</td>\n",
       "      <td>...</td>\n",
       "      <td>False</td>\n",
       "      <td>False</td>\n",
       "      <td>False</td>\n",
       "      <td>False</td>\n",
       "      <td>True</td>\n",
       "      <td>False</td>\n",
       "      <td>False</td>\n",
       "      <td>False</td>\n",
       "      <td>True</td>\n",
       "      <td>False</td>\n",
       "    </tr>\n",
       "    <tr>\n",
       "      <th>1458</th>\n",
       "      <td>70</td>\n",
       "      <td>66.0</td>\n",
       "      <td>9042</td>\n",
       "      <td>7</td>\n",
       "      <td>9</td>\n",
       "      <td>1941</td>\n",
       "      <td>2006</td>\n",
       "      <td>0.0</td>\n",
       "      <td>275.0</td>\n",
       "      <td>0.0</td>\n",
       "      <td>...</td>\n",
       "      <td>False</td>\n",
       "      <td>False</td>\n",
       "      <td>False</td>\n",
       "      <td>False</td>\n",
       "      <td>True</td>\n",
       "      <td>False</td>\n",
       "      <td>False</td>\n",
       "      <td>False</td>\n",
       "      <td>True</td>\n",
       "      <td>False</td>\n",
       "    </tr>\n",
       "    <tr>\n",
       "      <th>1459</th>\n",
       "      <td>20</td>\n",
       "      <td>68.0</td>\n",
       "      <td>9717</td>\n",
       "      <td>5</td>\n",
       "      <td>6</td>\n",
       "      <td>1950</td>\n",
       "      <td>1996</td>\n",
       "      <td>0.0</td>\n",
       "      <td>49.0</td>\n",
       "      <td>1029.0</td>\n",
       "      <td>...</td>\n",
       "      <td>False</td>\n",
       "      <td>False</td>\n",
       "      <td>False</td>\n",
       "      <td>False</td>\n",
       "      <td>True</td>\n",
       "      <td>False</td>\n",
       "      <td>False</td>\n",
       "      <td>False</td>\n",
       "      <td>True</td>\n",
       "      <td>False</td>\n",
       "    </tr>\n",
       "    <tr>\n",
       "      <th>1460</th>\n",
       "      <td>20</td>\n",
       "      <td>75.0</td>\n",
       "      <td>9937</td>\n",
       "      <td>5</td>\n",
       "      <td>6</td>\n",
       "      <td>1965</td>\n",
       "      <td>1965</td>\n",
       "      <td>0.0</td>\n",
       "      <td>830.0</td>\n",
       "      <td>290.0</td>\n",
       "      <td>...</td>\n",
       "      <td>False</td>\n",
       "      <td>False</td>\n",
       "      <td>False</td>\n",
       "      <td>False</td>\n",
       "      <td>True</td>\n",
       "      <td>False</td>\n",
       "      <td>False</td>\n",
       "      <td>False</td>\n",
       "      <td>True</td>\n",
       "      <td>False</td>\n",
       "    </tr>\n",
       "  </tbody>\n",
       "</table>\n",
       "<p>1460 rows × 262 columns</p>\n",
       "</div>"
      ],
      "text/plain": [
       "      MSSubClass  LotFrontage  LotArea  OverallQual  OverallCond  YearBuilt  \\\n",
       "Id                                                                            \n",
       "1             60         65.0     8450            7            5       2003   \n",
       "2             20         80.0     9600            6            8       1976   \n",
       "3             60         68.0    11250            7            5       2001   \n",
       "4             70         60.0     9550            7            5       1915   \n",
       "5             60         84.0    14260            8            5       2000   \n",
       "...          ...          ...      ...          ...          ...        ...   \n",
       "1456          60         62.0     7917            6            5       1999   \n",
       "1457          20         85.0    13175            6            6       1978   \n",
       "1458          70         66.0     9042            7            9       1941   \n",
       "1459          20         68.0     9717            5            6       1950   \n",
       "1460          20         75.0     9937            5            6       1965   \n",
       "\n",
       "      YearRemodAdd  MasVnrArea  BsmtFinSF1  BsmtFinSF2  ...  SaleType_ConLI  \\\n",
       "Id                                                      ...                   \n",
       "1             2003       196.0       706.0         0.0  ...           False   \n",
       "2             1976         0.0       978.0         0.0  ...           False   \n",
       "3             2002       162.0       486.0         0.0  ...           False   \n",
       "4             1970         0.0       216.0         0.0  ...           False   \n",
       "5             2000       350.0       655.0         0.0  ...           False   \n",
       "...            ...         ...         ...         ...  ...             ...   \n",
       "1456          2000         0.0         0.0         0.0  ...           False   \n",
       "1457          1988       119.0       790.0       163.0  ...           False   \n",
       "1458          2006         0.0       275.0         0.0  ...           False   \n",
       "1459          1996         0.0        49.0      1029.0  ...           False   \n",
       "1460          1965         0.0       830.0       290.0  ...           False   \n",
       "\n",
       "      SaleType_ConLw  SaleType_New  SaleType_Oth  SaleType_WD  \\\n",
       "Id                                                              \n",
       "1              False         False         False         True   \n",
       "2              False         False         False         True   \n",
       "3              False         False         False         True   \n",
       "4              False         False         False         True   \n",
       "5              False         False         False         True   \n",
       "...              ...           ...           ...          ...   \n",
       "1456           False         False         False         True   \n",
       "1457           False         False         False         True   \n",
       "1458           False         False         False         True   \n",
       "1459           False         False         False         True   \n",
       "1460           False         False         False         True   \n",
       "\n",
       "      SaleCondition_AdjLand  SaleCondition_Alloca  SaleCondition_Family  \\\n",
       "Id                                                                        \n",
       "1                     False                 False                 False   \n",
       "2                     False                 False                 False   \n",
       "3                     False                 False                 False   \n",
       "4                     False                 False                 False   \n",
       "5                     False                 False                 False   \n",
       "...                     ...                   ...                   ...   \n",
       "1456                  False                 False                 False   \n",
       "1457                  False                 False                 False   \n",
       "1458                  False                 False                 False   \n",
       "1459                  False                 False                 False   \n",
       "1460                  False                 False                 False   \n",
       "\n",
       "      SaleCondition_Normal  SaleCondition_Partial  \n",
       "Id                                                 \n",
       "1                     True                  False  \n",
       "2                     True                  False  \n",
       "3                     True                  False  \n",
       "4                    False                  False  \n",
       "5                     True                  False  \n",
       "...                    ...                    ...  \n",
       "1456                  True                  False  \n",
       "1457                  True                  False  \n",
       "1458                  True                  False  \n",
       "1459                  True                  False  \n",
       "1460                  True                  False  \n",
       "\n",
       "[1460 rows x 262 columns]"
      ]
     },
     "execution_count": 23,
     "metadata": {},
     "output_type": "execute_result"
    }
   ],
   "source": [
    "X"
   ]
  },
  {
   "cell_type": "markdown",
   "metadata": {
    "id": "ay494OMubaeR"
   },
   "source": [
    "## **Theoretical Concept: Linear Regression**\n",
    "Linear Regression is a fundamental supervised learning algorithm used for predicting a continuous target variable based on one or more input features. It assumes a linear relationship between the features (independent variables) and the target variable (dependent variable).\n",
    "\n",
    "The goal of Linear Regression is to find the best-fitting straight line (or hyperplane in higher dimensions) that minimizes the sum of the squared differences between the observed and predicted values. This is known as the Ordinary Least Squares (OLS) method.\n",
    "\n",
    "The equation for simple linear regression (one feature) is:\n",
    "$$y = \\beta_0 + \\beta_1x + \\epsilon$$\n",
    "Where:\n",
    "- $y$ is the target variable (SalePrice in our case)\n",
    "- $x$ is the input feature\n",
    "- $\\beta_0$ is the y-intercept\n",
    "- $\\beta_1$ is the coefficient for the feature $x$ (representing the change in $y$ for a one-unit change in $x$)\n",
    "- $\\epsilon$ is the error term\n",
    "\n",
    "For multiple linear regression (multiple features), the equation is:\n",
    "$$y = \\beta_0 + \\beta_1x_1 + \\beta_2x_2 + ... + \\beta_nx_n + \\epsilon$$\n",
    "Where $x_1, x_2, ..., x_n$ are the input features and $\\beta_1, \\beta_2, ..., \\beta_n$ are their respective coefficients.\n",
    "\n",
    "**Assumptions of Linear Regression:**\n",
    "1. **Linearity:** The relationship between the features and the target variable is linear.\n",
    "2. **Independence:** The observations are independent of each other.\n",
    "3. **Homoscedasticity:** The variance of the errors is constant across all levels of the features.\n",
    "4. **Normality:** The errors are normally distributed.\n",
    "5. **No Multicollinearity:** The features are not highly correlated with each other.\n",
    "\n",
    "While Linear Regression is simple and interpretable, it can be sensitive to outliers and may not perform well if the assumptions are violated or if the relationships are highly non-linear."
   ]
  },
  {
   "cell_type": "markdown",
   "metadata": {
    "id": "model_training_markdown"
   },
   "source": [
    "#### 6.1 Model 1: Linear Regression (Baseline)"
   ]
  },
  {
   "cell_type": "code",
   "execution_count": 24,
   "metadata": {
    "id": "linear_regression_code"
   },
   "outputs": [],
   "source": [
    "lr = LinearRegression()\n",
    "lr.fit(X_train_scaled, y_train)\n",
    "y_pred_lr = lr.predict(X_val_scaled)"
   ]
  },
  {
   "cell_type": "markdown",
   "metadata": {
    "id": "cLJylXp2bu-r"
   },
   "source": [
    "### **Theoretical Concept: XGBoost (Extreme Gradient Boosting)**\n",
    "XGBoost is a highly efficient and popular gradient boosting algorithm. It's an optimized distributed gradient boosting library designed to be highly flexible, portable, and efficient.\n",
    "\n",
    "**How it works:**\n",
    "XGBoost builds trees sequentially. Each new tree attempts to correct the errors made by the previous trees. The predictions from all the trees are then summed up to get the final prediction.\n",
    "\n",
    "**Key Features and Advantages:**\n",
    "1. **Regularization:** Includes L1 and L2 regularization to prevent overfitting.\n",
    "2. **Handling Missing Values:** Has a built-in mechanism to handle missing values.\n",
    "3. **Tree Pruning:** Supports 'depth-first' and 'breadth-first' tree growth and pruning, which can improve performance and reduce overfitting.\n",
    "4. **Parallel Processing:** Designed to be highly parallelizable, making it faster than traditional gradient boosting implementations.\n",
    "5. **Flexibility:** Supports various objective functions and evaluation metrics.\n",
    "\n",
    "XGBoost is known for its performance on structured data and is often a top choice in machine learning competitions. However, it can be more complex to tune and understand compared to simpler models like Linear Regression."
   ]
  },
  {
   "cell_type": "markdown",
   "metadata": {
    "id": "model_xgboost_markdown"
   },
   "source": [
    "#### 6.2 Model 2: XGBoost (Advanced)"
   ]
  },
  {
   "cell_type": "code",
   "execution_count": 25,
   "metadata": {
    "id": "xgboost_code"
   },
   "outputs": [],
   "source": [
    "xgbr = xgb.XGBRegressor(objective='reg:squarederror', # Corrected objective function\n",
    "                        n_estimators=1000,\n",
    "                        learning_rate=0.05,\n",
    "                        max_depth=3,\n",
    "                        min_child_weight=1,\n",
    "                        subsample=0.8,\n",
    "                        colsample_bytree=0.8,\n",
    "                        random_state=42)\n",
    "\n",
    "# XGBoost can handle NaNs, but since we've cleaned the data, we can use the scaled data as well if preferred.\n",
    "# However, XGBoost generally doesn't require scaling. We'll use the unscaled data as it's a tree-based model.\n",
    "xgbr.fit(X_train, y_train)\n",
    "y_pred_xgb = xgbr.predict(X_val)"
   ]
  },
  {
   "cell_type": "markdown",
   "metadata": {
    "id": "evaluation_markdown"
   },
   "source": [
    "### Step 7: Model Evaluation"
   ]
  },
  {
   "cell_type": "markdown",
   "metadata": {
    "id": "theory_metrics"
   },
   "source": [
    "#### **Theoretical Concept: Regression Metrics**\n",
    "- **Mean Absolute Error (MAE):** The average absolute difference between the predicted and actual values. It's easy to interpret.\n",
    "- **Mean Squared Error (MSE):** The average of the squared differences. It penalizes larger errors more heavily.\n",
    "- **Root Mean Squared Error (RMSE):** The square root of MSE. It's the most common metric because it's in the same units as the target variable (in our case, log-price), making it more interpretable than MSE.\n",
    "- **R-squared ($R^2$):** The proportion of the variance in the target variable that is predictable from the features. A value closer to 1 indicates a better fit."
   ]
  },
  {
   "cell_type": "code",
   "execution_count": 26,
   "metadata": {
    "colab": {
     "base_uri": "https://localhost:8080/"
    },
    "executionInfo": {
     "elapsed": 38,
     "status": "ok",
     "timestamp": 1757419664751,
     "user": {
      "displayName": "Harshvardhan Singh",
      "userId": "01021206035258477392"
     },
     "user_tz": -330
    },
    "id": "evaluation_code",
    "outputId": "d21cf73e-8817-4127-ba78-ca9509175121"
   },
   "outputs": [
    {
     "name": "stdout",
     "output_type": "stream",
     "text": [
      "--- XGBoost Performance ---\n",
      "RMSE: 0.1344\n",
      "MAE:  0.0864\n",
      "R-squared: 0.9032\n",
      "\n"
     ]
    }
   ],
   "source": [
    "def evaluate_model(y_true, y_pred, model_name):\n",
    "    rmse = np.sqrt(mean_squared_error(y_true, y_pred))\n",
    "    mae = mean_absolute_error(y_true, y_pred)\n",
    "    r2 = r2_score(y_true, y_pred)\n",
    "    print(f\"--- {model_name} Performance ---\")\n",
    "    print(f\"RMSE: {rmse:.4f}\")\n",
    "    print(f\"MAE:  {mae:.4f}\")\n",
    "    print(f\"R-squared: {r2:.4f}\\n\")\n",
    "\n",
    "# evaluate_model(y_val, y_pred_lr, \"Linear Regression\") # Commenting out Linear Regression evaluation as it failed\n",
    "evaluate_model(y_val, y_pred_xgb, \"XGBoost\")"
   ]
  },
  {
   "cell_type": "markdown",
   "metadata": {
    "id": "evaluation_summary"
   },
   "source": [
    "**Observation:** The XGBoost model significantly outperforms the Linear Regression model on all metrics. It has a lower error (RMSE, MAE) and explains a higher proportion of the variance (R-squared). This is expected, as gradient boosting models are more powerful and can capture complex, non-linear relationships in the data."
   ]
  },
  {
   "cell_type": "markdown",
   "metadata": {
    "id": "submission_markdown"
   },
   "source": [
    "### Step 8: Create Submission File"
   ]
  },
  {
   "cell_type": "code",
   "execution_count": 27,
   "metadata": {
    "colab": {
     "base_uri": "https://localhost:8080/",
     "height": 224
    },
    "executionInfo": {
     "elapsed": 76,
     "status": "ok",
     "timestamp": 1757269939510,
     "user": {
      "displayName": "Harshvardhan Singh",
      "userId": "01021206035258477392"
     },
     "user_tz": -330
    },
    "id": "submission_code",
    "outputId": "f41d5baf-db2e-4c36-cb8b-5ad859a3dadc"
   },
   "outputs": [
    {
     "name": "stdout",
     "output_type": "stream",
     "text": [
      "Submission file 'submission.csv' created successfully.\n"
     ]
    },
    {
     "data": {
      "text/html": [
       "<div>\n",
       "<style scoped>\n",
       "    .dataframe tbody tr th:only-of-type {\n",
       "        vertical-align: middle;\n",
       "    }\n",
       "\n",
       "    .dataframe tbody tr th {\n",
       "        vertical-align: top;\n",
       "    }\n",
       "\n",
       "    .dataframe thead th {\n",
       "        text-align: right;\n",
       "    }\n",
       "</style>\n",
       "<table border=\"1\" class=\"dataframe\">\n",
       "  <thead>\n",
       "    <tr style=\"text-align: right;\">\n",
       "      <th></th>\n",
       "      <th>Id</th>\n",
       "      <th>SalePrice</th>\n",
       "    </tr>\n",
       "  </thead>\n",
       "  <tbody>\n",
       "    <tr>\n",
       "      <th>0</th>\n",
       "      <td>1461</td>\n",
       "      <td>123225.789062</td>\n",
       "    </tr>\n",
       "    <tr>\n",
       "      <th>1</th>\n",
       "      <td>1462</td>\n",
       "      <td>163591.781250</td>\n",
       "    </tr>\n",
       "    <tr>\n",
       "      <th>2</th>\n",
       "      <td>1463</td>\n",
       "      <td>190166.703125</td>\n",
       "    </tr>\n",
       "    <tr>\n",
       "      <th>3</th>\n",
       "      <td>1464</td>\n",
       "      <td>194260.031250</td>\n",
       "    </tr>\n",
       "    <tr>\n",
       "      <th>4</th>\n",
       "      <td>1465</td>\n",
       "      <td>182331.875000</td>\n",
       "    </tr>\n",
       "  </tbody>\n",
       "</table>\n",
       "</div>"
      ],
      "text/plain": [
       "     Id      SalePrice\n",
       "0  1461  123225.789062\n",
       "1  1462  163591.781250\n",
       "2  1463  190166.703125\n",
       "3  1464  194260.031250\n",
       "4  1465  182331.875000"
      ]
     },
     "execution_count": 27,
     "metadata": {},
     "output_type": "execute_result"
    }
   ],
   "source": [
    "# Make predictions on the final test set using the best model (XGBoost)\n",
    "# Use the unscaled test data for XGBoost prediction\n",
    "final_predictions_log = xgbr.predict(X_test_final)\n",
    "\n",
    "# IMPORTANT: We must reverse the log transformation to get the predictions back on the original price scale\n",
    "final_predictions = np.expm1(final_predictions_log)\n",
    "\n",
    "# Create the submission DataFrame\n",
    "submission = pd.DataFrame({'Id': test_df.index, 'SalePrice': final_predictions})\n",
    "\n",
    "# Save to csv\n",
    "submission.to_csv('submission.csv', index=False)\n",
    "\n",
    "print(\"Submission file 'submission.csv' created successfully.\")\n",
    "submission.head()"
   ]
  },
  {
   "cell_type": "markdown",
   "metadata": {
    "id": "conclusion_markdown"
   },
   "source": [
    "### Step 9: Conclusion\n",
    "\n",
    "In this project, we successfully built an end-to-end regression pipeline to predict house prices.\n",
    "\n",
    "**Key Steps Undertaken:**\n",
    "1.  **Analyzed and transformed the target variable** (`SalePrice`) to handle its skewness.\n",
    "2.  Conducted a **thorough EDA** to understand the key features influencing price.\n",
    "3.  Implemented a **robust preprocessing strategy**, handling various types of missing data and encoding categorical features correctly.\n",
    "4.  **Engineered new features** (`TotalSF`, `TotalBath`, `Age`) that provided more predictive power.\n",
    "5.  **Trained and compared two models**, demonstrating the superior performance of XGBoost over a simple linear model.\n",
    "6.  **Evaluated the models** using standard regression metrics and generated a final submission file.\n",
    "\n",
    "**Potential Next Steps:**\n",
    "- **Hyperparameter Tuning:** Use techniques like GridSearchCV to find the optimal parameters for the XGBoost model.\n",
    "- **More Feature Engineering:** Create more complex features, such as interaction terms between key variables.\n",
    "- **Ensemble Modeling:** Combine the predictions of several different models to potentially achieve even better results."
   ]
  },
  {
   "cell_type": "code",
   "execution_count": 28,
   "metadata": {
    "colab": {
     "base_uri": "https://localhost:8080/"
    },
    "executionInfo": {
     "elapsed": 14,
     "status": "ok",
     "timestamp": 1757269939512,
     "user": {
      "displayName": "Harshvardhan Singh",
      "userId": "01021206035258477392"
     },
     "user_tz": -330
    },
    "id": "1abc80ec",
    "outputId": "8109f7da-6d29-4621-bc19-9612e912e59f"
   },
   "outputs": [
    {
     "name": "stdout",
     "output_type": "stream",
     "text": [
      "Missing values in X_train_scaled: 0\n",
      "Missing values in X_val_scaled: 0\n"
     ]
    }
   ],
   "source": [
    "print(\"Missing values in X_train_scaled:\", np.isnan(X_train_scaled).sum())\n",
    "print(\"Missing values in X_val_scaled:\", np.isnan(X_val_scaled).sum())"
   ]
  },
  {
   "cell_type": "code",
   "execution_count": 29,
   "metadata": {
    "colab": {
     "base_uri": "https://localhost:8080/"
    },
    "executionInfo": {
     "elapsed": 22,
     "status": "ok",
     "timestamp": 1757269939535,
     "user": {
      "displayName": "Harshvardhan Singh",
      "userId": "01021206035258477392"
     },
     "user_tz": -330
    },
    "id": "54f9887b",
    "outputId": "beac3edd-9a2a-4985-fbd5-ec10c6468815"
   },
   "outputs": [
    {
     "name": "stdout",
     "output_type": "stream",
     "text": [
      "Infinite values in X_train_scaled: 0\n",
      "Infinite values in X_val_scaled: 0\n"
     ]
    }
   ],
   "source": [
    "print(\"Infinite values in X_train_scaled:\", np.isinf(X_train_scaled).sum())\n",
    "print(\"Infinite values in X_val_scaled:\", np.isinf(X_val_scaled).sum())"
   ]
  }
 ],
 "metadata": {
  "colab": {
   "provenance": []
  },
  "kernelspec": {
   "display_name": "Python 3",
   "name": "python3"
  },
  "language_info": {
   "codemirror_mode": {
    "name": "ipython",
    "version": 3
   },
   "file_extension": ".py",
   "mimetype": "text/x-python",
   "name": "python",
   "nbconvert_exporter": "python",
   "pygments_lexer": "ipython3",
   "version": "3.13.3"
  }
 },
 "nbformat": 4,
 "nbformat_minor": 0
}
