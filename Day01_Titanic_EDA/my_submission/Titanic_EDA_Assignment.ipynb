{
 "cells": [
  {
   "cell_type": "markdown",
   "metadata": {},
   "source": [
    "## EDA on the Titanic dataset"
   ]
  },
  {
   "cell_type": "markdown",
   "metadata": {},
   "source": [
    "### Step 1: Setup - Importing Libraries"
   ]
  },
  {
   "cell_type": "code",
   "execution_count": null,
   "metadata": {
    "id": "JiTICrOu9IeW"
   },
   "outputs": [],
   "source": [
    "import pandas as pd\n",
    "import numpy as np\n",
    "import seaborn as sns\n",
    "import matplotlib.pyplot as plt\n",
    "\n",
    "# Set plot style for better aesthetics\n",
    "sns.set(style='whitegrid')"
   ]
  },
  {
   "cell_type": "code",
   "execution_count": null,
   "metadata": {
    "colab": {
     "base_uri": "https://localhost:8080/"
    },
    "id": "Q_EuLfcW_45x",
    "outputId": "664ff015-5dfd-4cd6-cec1-dab650109795"
   },
   "outputs": [],
   "source": [
    "#!git clone 'https://github.com/GeeksforgeeksDS/21-Days-21-Projects-Dataset'"
   ]
  },
  {
   "cell_type": "markdown",
   "metadata": {},
   "source": [
    "### Step 2: Data Loading"
   ]
  },
  {
   "cell_type": "code",
   "execution_count": null,
   "metadata": {
    "colab": {
     "base_uri": "https://localhost:8080/",
     "height": 947
    },
    "id": "6gQtLfX3Agap",
    "outputId": "a36e9f04-ffe2-48e3-bb47-cdede1405567"
   },
   "outputs": [],
   "source": [
    "df = pd.read_csv('Titanic-Dataset.csv')\n",
    "df"
   ]
  },
  {
   "cell_type": "code",
   "execution_count": null,
   "metadata": {
    "colab": {
     "base_uri": "https://localhost:8080/",
     "height": 504
    },
    "id": "J7aZ85RXBjAe",
    "outputId": "0e815903-57dd-47d7-a9f6-65a4ef768e30"
   },
   "outputs": [],
   "source": [
    "# Display the first 5 rows\n",
    "print(\"First 5 rows of the dataset:\")\n",
    "df.head()"
   ]
  },
  {
   "cell_type": "code",
   "execution_count": null,
   "metadata": {
    "colab": {
     "base_uri": "https://localhost:8080/",
     "height": 451
    },
    "id": "WFJ8qlPTBsrN",
    "outputId": "d3e55302-9725-4422-d9ec-6da37a8b0421"
   },
   "outputs": [],
   "source": [
    "df.tail()"
   ]
  },
  {
   "cell_type": "code",
   "execution_count": null,
   "metadata": {
    "colab": {
     "base_uri": "https://localhost:8080/"
    },
    "id": "q8beNEIAB4-o",
    "outputId": "bfac1611-cd9b-4078-a7f8-a33bf991f73e"
   },
   "outputs": [],
   "source": [
    "df.shape"
   ]
  },
  {
   "cell_type": "code",
   "execution_count": null,
   "metadata": {
    "colab": {
     "base_uri": "https://localhost:8080/"
    },
    "id": "gnmwx956B-p9",
    "outputId": "d7fd6a6a-f75c-4065-9114-514ebe7f41b0"
   },
   "outputs": [],
   "source": [
    "df.info()"
   ]
  },
  {
   "cell_type": "markdown",
   "metadata": {
    "id": "qPap4TiZCwTK"
   },
   "source": [
    "how to fill cabin value --> feature engineering"
   ]
  },
  {
   "cell_type": "code",
   "execution_count": null,
   "metadata": {
    "colab": {
     "base_uri": "https://localhost:8080/",
     "height": 320
    },
    "id": "1pkfgM_hC9pj",
    "outputId": "a4ed8891-eea6-4506-b91b-7633c84c05fd"
   },
   "outputs": [],
   "source": [
    "df.describe() # Descriptive statistical analysis"
   ]
  },
  {
   "cell_type": "code",
   "execution_count": null,
   "metadata": {
    "colab": {
     "base_uri": "https://localhost:8080/",
     "height": 458
    },
    "id": "OQcakun2EaeA",
    "outputId": "6d98ae60-5584-47d8-ac13-97b60f0f4391"
   },
   "outputs": [],
   "source": [
    "df['Name']"
   ]
  },
  {
   "cell_type": "code",
   "execution_count": null,
   "metadata": {
    "colab": {
     "base_uri": "https://localhost:8080/",
     "height": 458
    },
    "id": "FEEnurfQEjKv",
    "outputId": "e9dfd761-3e21-48cf-b8d1-f846fa2df458"
   },
   "outputs": [],
   "source": [
    "df['Age'] >= 18"
   ]
  },
  {
   "cell_type": "code",
   "execution_count": null,
   "metadata": {
    "colab": {
     "base_uri": "https://localhost:8080/",
     "height": 929
    },
    "id": "V1FSYZ-_D-BU",
    "outputId": "124d8219-fb2f-49c6-dd43-9ed70be5a61e"
   },
   "outputs": [],
   "source": [
    "df[df['Age'] >= 18] #series"
   ]
  },
  {
   "cell_type": "code",
   "execution_count": null,
   "metadata": {
    "colab": {
     "base_uri": "https://localhost:8080/",
     "height": 877
    },
    "id": "_CeXKb90E6Zj",
    "outputId": "2a6d202f-7c1c-44ef-bfef-f8f6edb6365e"
   },
   "outputs": [],
   "source": [
    "df[df['Embarked']=='C']"
   ]
  },
  {
   "cell_type": "code",
   "execution_count": null,
   "metadata": {
    "colab": {
     "base_uri": "https://localhost:8080/",
     "height": 1000
    },
    "id": "HiRO1TU_FYcJ",
    "outputId": "975f80b8-b53d-46db-b5ca-3d40878a6ade"
   },
   "outputs": [],
   "source": [
    "df[(df['Sex'] == 'female') & (df['Embarked'] == 'Q')]"
   ]
  },
  {
   "cell_type": "code",
   "execution_count": null,
   "metadata": {
    "colab": {
     "base_uri": "https://localhost:8080/",
     "height": 489
    },
    "id": "gubYBHAoF0Lt",
    "outputId": "c3412def-2d7e-478b-8945-d22f528d4c6c"
   },
   "outputs": [],
   "source": [
    "df['Cabin'].value_counts()"
   ]
  },
  {
   "cell_type": "markdown",
   "metadata": {},
   "source": [
    "### Step 3: Data Cleaning"
   ]
  },
  {
   "cell_type": "code",
   "execution_count": null,
   "metadata": {
    "colab": {
     "base_uri": "https://localhost:8080/",
     "height": 443
    },
    "id": "oZBqLohnH1a-",
    "outputId": "b4e099ea-adeb-476e-c3bf-2272b338dfef"
   },
   "outputs": [],
   "source": [
    "df.isnull()"
   ]
  },
  {
   "cell_type": "code",
   "execution_count": null,
   "metadata": {
    "colab": {
     "base_uri": "https://localhost:8080/",
     "height": 460
    },
    "id": "IeWAGVqDH9t9",
    "outputId": "925a3549-e3b8-473c-8956-d58b0d17aca0"
   },
   "outputs": [],
   "source": [
    "print(\"Missing values before cleaning:\")\n",
    "df.isnull().sum()"
   ]
  },
  {
   "cell_type": "code",
   "execution_count": null,
   "metadata": {
    "colab": {
     "base_uri": "https://localhost:8080/"
    },
    "id": "fDZycK7mIbW_",
    "outputId": "e1901b51-2eec-4738-cfce-a1639b1ce55f"
   },
   "outputs": [],
   "source": [
    "median = df['Age'].median()\n",
    "print(median)"
   ]
  },
  {
   "cell_type": "code",
   "execution_count": null,
   "metadata": {
    "id": "S_fMdRaUIsuP"
   },
   "outputs": [],
   "source": [
    "# 1. Handle missing 'Age' values\n",
    "# We use the median to fill missing ages because the age distribution can be skewed.\n",
    "median_age = df['Age'].median()\n",
    "df['Age'] = df['Age'].fillna(median_age)\n",
    "\n",
    "# Verify that there are no more missing values in the columns we handled so far\n",
    "print(\"Missing values after Age cleaning:\")\n",
    "print(df[['Age', 'Embarked', 'Cabin']].isna().sum())"
   ]
  },
  {
   "cell_type": "code",
   "execution_count": null,
   "metadata": {
    "colab": {
     "base_uri": "https://localhost:8080/",
     "height": 38
    },
    "id": "tis9UCGnJDEe",
    "outputId": "1aab6978-537b-4103-eaa9-ab50089a0f31"
   },
   "outputs": [],
   "source": [
    "mode = df['Embarked'].mode()[0]\n",
    "print(mode)"
   ]
  },
  {
   "cell_type": "code",
   "execution_count": null,
   "metadata": {
    "id": "bG9YpkSHJFFn"
   },
   "outputs": [],
   "source": [
    "# 2. Handle missing 'Embarked' values\n",
    "# Since there are only two missing values, we'll fill them with the most common port of embarkation (the mode).\n",
    "mode_embarked = df['Embarked'].mode()[0]\n",
    "df['Embarked'] = df['Embarked'].fillna(mode_embarked)\n",
    "\n",
    "# Verify that there are no more missing values in the columns we handled so far\n",
    "print(\"Missing values after Embarked cleaning:\")\n",
    "print(df[['Age', 'Embarked', 'Cabin']].isna().sum())"
   ]
  },
  {
   "cell_type": "code",
   "execution_count": null,
   "metadata": {
    "colab": {
     "base_uri": "https://localhost:8080/",
     "height": 460
    },
    "id": "THqBf8p-JTOo",
    "outputId": "0c5b7685-6b35-4405-891c-644657d45aed"
   },
   "outputs": [],
   "source": [
    "df.isnull().sum()"
   ]
  },
  {
   "cell_type": "code",
   "execution_count": null,
   "metadata": {
    "id": "aC9mwOPzJU8m"
   },
   "outputs": [],
   "source": [
    "# 3. Handle the 'Cabin' column\n",
    "# With over 77% missing data, imputing is not a good idea. Instead, we'll create a new feature 'Has_Cabin'.\n",
    "df['Has_Cabin'] = df['Cabin'].notna().astype(int) # 1 if has cabin, 0 if not\n",
    "df.drop('Cabin', axis=1, inplace=True) # Drop the original column"
   ]
  },
  {
   "cell_type": "code",
   "execution_count": null,
   "metadata": {
    "colab": {
     "base_uri": "https://localhost:8080/",
     "height": 458
    },
    "id": "ra1uGktlJgmh",
    "outputId": "84215a01-25af-4891-b26e-77a6e2385ec3"
   },
   "outputs": [],
   "source": [
    "df['Has_Cabin'].value_counts() "
   ]
  },
  {
   "cell_type": "code",
   "execution_count": null,
   "metadata": {
    "id": "ZyTpYL36JxqD"
   },
   "outputs": [],
   "source": [
    "df.head(5)"
   ]
  },
  {
   "cell_type": "code",
   "execution_count": null,
   "metadata": {
    "colab": {
     "base_uri": "https://localhost:8080/",
     "height": 947
    },
    "id": "hm4WClSGJzB-",
    "outputId": "e8370e91-5b56-4b64-fa2f-4db530480068"
   },
   "outputs": [],
   "source": [
    "# Verify that there are no more missing values in the columns we handled\n",
    "print(\"Missing values after cleaning:\")\n",
    "df.isna().sum()"
   ]
  },
  {
   "cell_type": "markdown",
   "metadata": {},
   "source": [
    "### Step 4: Univariate Analysis"
   ]
  },
  {
   "cell_type": "code",
   "execution_count": null,
   "metadata": {
    "colab": {
     "base_uri": "https://localhost:8080/",
     "height": 741
    },
    "id": "fPxDZSByK0AE",
    "outputId": "9631f847-eca1-481c-9f38-e7a5d8323187"
   },
   "outputs": [],
   "source": [
    "print(\"Analyzing categorical features:\")\n",
    "\n",
    "# Set up the figure for plotting\n",
    "fig, axes = plt.subplots(2, 3, figsize=(18, 12))\n",
    "fig.suptitle('Univariate Analysis of Categorical Features', fontsize=16)\n",
    "\n",
    "# Plotting each categorical feature\n",
    "sns.countplot(ax=axes[0, 0], x='Survived', data=df).set_title('Survival Distribution')\n",
    "sns.countplot(ax=axes[0, 1], x='Pclass', data=df).set_title('Passenger Class Distribution')\n",
    "sns.countplot(ax=axes[0, 2], x='Sex', data=df).set_title('Gender Distribution')\n",
    "sns.countplot(ax=axes[1, 0], x='Embarked', data=df).set_title('Port of Embarkation')\n",
    "sns.countplot(ax=axes[1, 1], x='SibSp', data=df).set_title('Siblings/Spouses Aboard')\n",
    "sns.countplot(ax=axes[1, 2], x='Parch', data=df).set_title('Parents/Children Aboard')\n",
    "\n",
    "plt.tight_layout(rect=[0, 0, 1, 0.96])\n",
    "plt.show()"
   ]
  },
  {
   "cell_type": "markdown",
   "metadata": {},
   "source": [
    "**Key Insights (Categorical):**\n",
    "- **Survival:** Most passengers (over 500) did not survive.\n",
    "- **Pclass:** The 3rd class was the most populated, followed by 1st and then 2nd.\n",
    "- **Sex:** There were significantly more males than females.\n",
    "- **Embarked:** The vast majority of passengers embarked from Southampton ('S').\n",
    "- **SibSp & Parch:** Most passengers traveled alone."
   ]
  },
  {
   "cell_type": "code",
   "execution_count": null,
   "metadata": {
    "colab": {
     "base_uri": "https://localhost:8080/",
     "height": 318
    },
    "id": "tN1sIVA6MqgH",
    "outputId": "c9a3b240-b129-45ee-ebff-b6401fa9b70c"
   },
   "outputs": [],
   "source": [
    "print(\"\\nAnalyzing numerical features:\")\n",
    "\n",
    "fig, axes = plt.subplots(1, 2, figsize=(16, 6))\n",
    "fig.suptitle('Univariate Analysis of Numerical Features', fontsize=16)\n",
    "\n",
    "# Plotting Age distribution\n",
    "sns.histplot(ax=axes[0], data=df, x='Age', kde=True, bins=30).set_title('Age Distribution')\n",
    "\n",
    "# Plotting Fare distribution\n",
    "sns.histplot(ax=axes[1], data=df, x='Fare', kde=True, bins=40).set_title('Fare Distribution')\n",
    "\n",
    "plt.show()"
   ]
  },
  {
   "cell_type": "markdown",
   "metadata": {},
   "source": [
    "**Key Insights (Numerical):**\n",
    "- **Age:** The distribution peaks around the 20-30 age range. Remember we filled missing values with the median (28), which contributes to the height of that central bar.\n",
    "- **Fare:** The distribution is heavily right-skewed, confirming that most tickets were cheap, with a few very expensive exceptions."
   ]
  },
  {
   "cell_type": "markdown",
   "metadata": {},
   "source": [
    "### Step 5: Bivariate Analysis"
   ]
  },
  {
   "cell_type": "code",
   "execution_count": null,
   "metadata": {
    "colab": {
     "base_uri": "https://localhost:8080/",
     "height": 476
    },
    "id": "EF0nb4SpOMGL",
    "outputId": "21934253-0217-4479-c117-e883924e431e"
   },
   "outputs": [],
   "source": [
    "print(\"Bivariate Analysis: Feature vs. Survival\")\n",
    "\n",
    "fig, axes = plt.subplots(2, 2, figsize=(16, 12))\n",
    "fig.suptitle('Bivariate Analysis with Survival', fontsize=16)\n",
    "\n",
    "# Pclass vs. Survived\n",
    "sns.barplot(ax=axes[0, 0], x='Pclass', y='Survived', data=df).set_title('Survival Rate by Pclass')\n",
    "\n",
    "# Sex vs. Survived\n",
    "sns.barplot(ax=axes[0, 1], x='Sex', y='Survived', data=df).set_title('Survival Rate by Sex')\n",
    "\n",
    "# Embarked vs. Survived\n",
    "sns.barplot(ax=axes[1, 0], x='Embarked', y='Survived', data=df).set_title('Survival Rate by Port')\n",
    "\n",
    "# Has_Cabin vs. Survived\n",
    "sns.barplot(ax=axes[1, 1], x='Has_Cabin', y='Survived', data=df).set_title('Survival Rate by Cabin Availability')\n",
    "\n",
    "plt.tight_layout(rect=[0, 0, 1, 0.96])\n",
    "plt.show()"
   ]
  },
  {
   "cell_type": "markdown",
   "metadata": {},
   "source": [
    "**Key Insights (Bivariate):**\n",
    "- **Pclass:** A clear trend emerges: 1st class passengers had a >60% survival rate, while 3rd class passengers had less than 25%.\n",
    "- **Sex:** This is the strongest predictor. Females had a survival rate of ~75%, while males had a rate below 20%.\n",
    "- **Embarked:** Passengers embarking from Cherbourg ('C') had a higher survival rate than those from the other ports.\n",
    "- **Has_Cabin:** Passengers with a registered cabin number had a much higher survival rate. This is likely correlated with being in 1st class."
   ]
  },
  {
   "cell_type": "code",
   "execution_count": null,
   "metadata": {
    "colab": {
     "base_uri": "https://localhost:8080/",
     "height": 325
    },
    "id": "g75JOEshQWe-",
    "outputId": "2617d724-e3e0-425f-b890-7b1b5e15bb44"
   },
   "outputs": [],
   "source": [
    "# Age vs. Survival\n",
    "g = sns.FacetGrid(df, col='Survived', height=6)\n",
    "g.map(sns.histplot, 'Age', bins=25, kde=True)\n",
    "plt.suptitle('Age Distribution by Survival Status', y=1.02)\n",
    "plt.show()"
   ]
  },
  {
   "cell_type": "markdown",
   "metadata": {},
   "source": [
    "**Key Insight (Age vs. Survival):**\n",
    "- Infants and young children had a higher probability of survival.\n",
    "- A large portion of non-survivors were young adults (20-40).\n",
    "- The oldest passengers (80 years) did not survive."
   ]
  },
  {
   "cell_type": "markdown",
   "metadata": {},
   "source": [
    "#### Deeper Dive: Outlier Analysis for 'Fare'"
   ]
  },
  {
   "cell_type": "code",
   "execution_count": null,
   "metadata": {
    "colab": {
     "base_uri": "https://localhost:8080/",
     "height": 472
    },
    "id": "8pg7RHJ2QceB",
    "outputId": "c3c6bc64-4427-41da-fd1d-92a3fef0c6eb"
   },
   "outputs": [],
   "source": [
    "plt.figure(figsize=(10,8))\n",
    "sns.boxplot(y='Fare', data=df)\n",
    "plt.title('Box Plot for Ticket Price')\n",
    "plt.ylabel(\"Fare\")\n",
    "plt.show()"
   ]
  },
  {
   "cell_type": "markdown",
   "metadata": {},
   "source": [
    "**Observation:**\n",
    "The box plot confirms the presence of significant outliers. Most fares are concentrated below \\$100, but there are several fares extending far beyond, with some even exceeding \\$500. These are likely first-class passengers who booked luxurious suites. For some machine learning models, handling these outliers (e.g., through log transformation) would be an important step."
   ]
  },
  {
   "cell_type": "code",
   "execution_count": null,
   "metadata": {
    "id": "nrqVsLwVR22c"
   },
   "outputs": [],
   "source": [
    "## Create a \"familySIZE\" column\n",
    "df['FamilySize'] = df['SibSp'] + df['Parch'] + 1\n",
    "\n",
    "# 2. Create an 'IsAlone' feature\n",
    "df['IsAlone'] = 0\n",
    "df.loc[df['FamilySize'] == 1, 'IsAlone'] = 1\n",
    "\n",
    "print(\"Created 'FamilySize' and 'IsAlone' features:\")\n",
    "df[['FamilySize', 'IsAlone']].head()"
   ]
  },
  {
   "cell_type": "markdown",
   "metadata": {},
   "source": [
    "### Step 6: Feature Engineering"
   ]
  },
  {
   "cell_type": "code",
   "execution_count": null,
   "metadata": {
    "id": "h3JQSDu3Qwpz"
   },
   "outputs": [],
   "source": [
    "## Create a \"familySIZE\" column\n",
    "df['FamilySize'] = df['SibSp'] + df['Parch'] + 1\n",
    "\n",
    "# 2. Create an 'IsAlone' feature\n",
    "df['IsAlone'] = 0\n",
    "df.loc[df['FamilySize'] == 1, 'IsAlone'] = 1\n",
    "\n",
    "print(\"Created 'FamilySize' and 'IsAlone' features:\")\n",
    "df[['FamilySize', 'IsAlone']].head()"
   ]
  },
  {
   "cell_type": "code",
   "execution_count": null,
   "metadata": {
    "id": "Q1thob_NSzs6"
   },
   "outputs": [],
   "source": [
    "# Analyze the new family-related features against survival\n",
    "fig, axes = plt.subplots(1, 2, figsize=(16, 6))\n",
    "\n",
    "# Survival Rate by FamilySize\n",
    "sns.barplot(ax=axes[0], x='FamilySize', y='Survived', data=df).set_title('Survival Rate by Family Size')\n",
    "\n",
    "# Survival Rate by IsAlone\n",
    "sns.barplot(ax=axes[1], x='IsAlone', y='Survived', data=df).set_title('Survival Rate for Those Traveling Alone')\n",
    "\n",
    "plt.show()"
   ]
  },
  {
   "cell_type": "markdown",
   "metadata": {
    "id": "kXi_JOXbTRae"
   },
   "source": [
    "**Insight:**\n",
    "- Passengers who were alone (`IsAlone=1`) had a lower survival rate (~30%) than those in small families.\n",
    "- Small families of 2 to 4 members had the highest survival rates.\n",
    "- Very large families (5 or more) had a very poor survival rate. This might be because it was harder for large families to stay together and evacuate."
   ]
  },
  {
   "cell_type": "code",
   "execution_count": null,
   "metadata": {
    "id": "gC7feNGUTRo7"
   },
   "outputs": [],
   "source": [
    "# 3. Extract 'Title' from the 'Name' column\n",
    "df['Title'] = df['Name'].str.extract(r' ([A-Za-z]+)\\.', expand=False)\n",
    "\n",
    "# Let's see the different titles\n",
    "print(\"Extracted Titles:\")\n",
    "df['Title'].value_counts()"
   ]
  },
  {
   "cell_type": "code",
   "execution_count": null,
   "metadata": {},
   "outputs": [],
   "source": [
    "# Simplify the titles by grouping rare ones into a 'Rare' category\n",
    "df['Title'] = df['Title'].replace(['Lady', 'Countess','Capt', 'Col','Don', 'Dr', 'Major', 'Rev', 'Sir', 'Jonkheer', 'Dona'], 'Rare')\n",
    "\n",
    "df['Title'] = df['Title'].replace('Mlle', 'Miss')\n",
    "df['Title'] = df['Title'].replace('Ms', 'Miss')\n",
    "df['Title'] = df['Title'].replace('Mme', 'Mrs')\n",
    "\n",
    "# Let's see the survival rate by the new, cleaned titles\n",
    "plt.figure(figsize=(12, 6))\n",
    "sns.barplot(x='Title', y='Survived', data=df)\n",
    "plt.title('Survival Rate by Title')\n",
    "plt.ylabel('Survival Probability')\n",
    "plt.show()"
   ]
  },
  {
   "cell_type": "markdown",
   "metadata": {},
   "source": [
    "**Insight:**\n",
    "The `Title` feature gives us powerful information. 'Mrs' and 'Miss' (females) had high survival rates. 'Mr' (males) had a very low survival rate. 'Master' (young boys) had a significantly higher survival rate than 'Mr', reinforcing the 'children first' idea. The 'Rare' titles, often associated with nobility or status, also had a mixed but generally higher survival rate than common men."
   ]
  },
  {
   "cell_type": "markdown",
   "metadata": {},
   "source": [
    "### Step 7: Multivariate Analysis"
   ]
  },
  {
   "cell_type": "code",
   "execution_count": null,
   "metadata": {},
   "outputs": [],
   "source": [
    "# Survival rate by Pclass and Sex\n",
    "sns.catplot(x='Pclass', y='Survived', hue='Sex', data=df, kind='bar', height=6, aspect=1.5)\n",
    "plt.title('Survival Rate by Pclass and Sex')\n",
    "plt.ylabel('Survival Probability')\n",
    "plt.show()\n",
    "\n",
    "# Insights: Females in all classes had a significantly higher survival rate than males."
   ]
  },
  {
   "cell_type": "code",
   "execution_count": null,
   "metadata": {
    "id": "N5aY1wuyWH8j"
   },
   "outputs": [],
   "source": [
    "# Violin plot to see age distribution by sex and survival status\n",
    "plt.figure(figsize=(14, 8))\n",
    "sns.violinplot(x='Sex', y='Age', hue='Survived', data=df, split=True, palette={0: 'blue', 1: 'orange'})\n",
    "plt.title('Age Distribution by Sex and Survival')\n",
    "plt.show()"
   ]
  },
  {
   "cell_type": "markdown",
   "metadata": {},
   "source": [
    "**Insight from Violin Plot:**\n",
    "- For males, the peak of the distribution for survivors (orange) is at a very young age (children), while the peak for non-survivors is in the 20-30 range.\n",
    "- For females, the distribution of survivors is much broader, indicating that females of most ages had a good chance of surviving."
   ]
  },
  {
   "cell_type": "markdown",
   "metadata": {},
   "source": [
    "### Step 8: Correlation Analysis"
   ]
  },
  {
   "cell_type": "code",
   "execution_count": null,
   "metadata": {
    "id": "2gkTjM2eWOco"
   },
   "outputs": [],
   "source": [
    "# Correlation Heatmap for numerical features\n",
    "plt.figure(figsize=(14, 10))\n",
    "numeric_cols = df.select_dtypes(include=np.number)\n",
    "correlation_matrix = numeric_cols.corr()\n",
    "sns.heatmap(correlation_matrix, annot=True, cmap='coolwarm', fmt='.2f')\n",
    "plt.title('Correlation Matrix of Numerical Features')\n",
    "plt.show()"
   ]
  },
  {
   "cell_type": "markdown",
   "metadata": {},
   "source": [
    "**Interpretation of the Heatmap:**\n",
    "- **`Survived`** has a notable positive correlation with `Fare` and `Has_Cabin`, and a negative correlation with `Pclass` and our new `IsAlone` feature.\n",
    "- **`Pclass`** and `Fare` are strongly negatively correlated, which makes sense (1st class = high fare).\n",
    "- Our new **`FamilySize`** feature is composed of `SibSp` and `Parch`, so it's highly correlated with them by definition."
   ]
  }
 ],
 "metadata": {
  "colab": {
   "provenance": []
  },
  "kernelspec": {
   "display_name": "Python 3",
   "name": "python3"
  },
  "language_info": {
   "name": "python"
  }
 },
 "nbformat": 4,
 "nbformat_minor": 0
}
