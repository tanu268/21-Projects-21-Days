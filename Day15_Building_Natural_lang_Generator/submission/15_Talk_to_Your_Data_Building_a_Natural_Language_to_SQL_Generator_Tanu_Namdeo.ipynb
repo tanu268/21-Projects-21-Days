{
  "cells": [
    {
      "cell_type": "markdown",
      "metadata": {
        "id": "QFP-3OUZODfi"
      },
      "source": [
        "# Submission Details\n",
        "\n",
        "Created dataset for employees with at least 2 tables, and shared the results."
      ]
    },
    {
      "cell_type": "markdown",
      "metadata": {
        "id": "xEGHqpHlbJTi"
      },
      "source": [
        "# Tangent 1: "
      ]
    },
    {
      "cell_type": "markdown",
      "metadata": {
        "id": "NfjHNdV_e0mV"
      },
      "source": [
        "http://mockaroo.com"
      ]
    },
    {
      "cell_type": "markdown",
      "metadata": {
        "id": "FVEhDPJRgjEG"
      },
      "source": [
        "## Retrieve data"
      ]
    },
    {
      "cell_type": "code",
      "execution_count": 6,
      "metadata": {
        "colab": {
          "base_uri": "https://localhost:8080/"
        },
        "id": "gtoylkV4fTfr",
        "outputId": "fe394bfe-ab6a-4c65-aee7-53223308744f"
      },
      "outputs": [
        {
          "name": "stdout",
          "output_type": "stream",
          "text": [
            "  % Total    % Received % Xferd  Average Speed   Time    Time     Time  Current\n",
            "                                 Dload  Upload   Total   Spent    Left  Speed\n",
            "100  100k    0  100k    0     0  70316      0 --:--:--  0:00:01 --:--:-- 70277\n"
          ]
        }
      ],
      "source": [
        "! curl \"https://api.mockaroo.com/api/8c04bca0?count=1000&key=03164ce0\" > \"Employee Details.csv\""
      ]
    },
    {
      "cell_type": "code",
      "execution_count": 7,
      "metadata": {
        "colab": {
          "base_uri": "https://localhost:8080/"
        },
        "id": "XDCS0WMpfde8",
        "outputId": "63ff0051-3650-4675-daaa-6a5ec22e815f"
      },
      "outputs": [
        {
          "name": "stdout",
          "output_type": "stream",
          "text": [
            "  % Total    % Received % Xferd  Average Speed   Time    Time     Time  Current\n",
            "                                 Dload  Upload   Total   Spent    Left  Speed\n",
            "100 60881    0 60881    0     0  61743      0 --:--:-- --:--:-- --:--:-- 61745\n"
          ]
        }
      ],
      "source": [
        "! curl \"https://api.mockaroo.com/api/09b05630?count=1000&key=03164ce0\" > \"Department.csv\""
      ]
    },
    {
      "cell_type": "markdown",
      "metadata": {
        "id": "7qjkE5Evglm2"
      },
      "source": [
        "## Setup database"
      ]
    },
    {
      "cell_type": "code",
      "execution_count": 8,
      "metadata": {
        "id": "D1j0-m0jfnzY"
      },
      "outputs": [],
      "source": [
        "import sqlite3\n",
        "import pandas as pd\n",
        "import os"
      ]
    },
    {
      "cell_type": "code",
      "execution_count": 9,
      "metadata": {
        "id": "7Rph1leNgnfs"
      },
      "outputs": [],
      "source": [
        "# Define SQL schemas for creating tables\n",
        "employees_schema = \"\"\"\n",
        "CREATE TABLE IF NOT EXISTS employees (\n",
        "    employee_id INT PRIMARY KEY,\n",
        "    first_name VARCHAR(50),\n",
        "    last_name VARCHAR(50),\n",
        "    gender VARCHAR(10),\n",
        "    date_of_birth DATE,\n",
        "    job_title VARCHAR(100),\n",
        "    department VARCHAR(50),\n",
        "    salary DECIMAL(10,2),\n",
        "    hire_date DATE,\n",
        "    email VARCHAR(100)\n",
        ");\n",
        "\"\"\"\n",
        "\n",
        "\n",
        "departments_schema = \"\"\"\n",
        "CREATE TABLE IF NOT EXISTS departments (\n",
        "    department_id INT PRIMARY KEY,\n",
        "    department_name VARCHAR(100),\n",
        "    department_code VARCHAR(50),\n",
        "    department_head VARCHAR(100),\n",
        "    department_budget DECIMAL(12,2),\n",
        "    department_location VARCHAR(100)\n",
        ");\n",
        "\"\"\"\n"
      ]
    },
    {
      "cell_type": "code",
      "execution_count": 10,
      "metadata": {
        "id": "JBnO16ffg26e"
      },
      "outputs": [],
      "source": [
        "db_name = 'company.db'\n",
        "if os.path.exists(db_name):\n",
        "    os.remove(db_name)\n",
        "    print(f\"Removed existing database '{db_name}'.\")"
      ]
    },
    {
      "cell_type": "code",
      "execution_count": 11,
      "metadata": {
        "colab": {
          "base_uri": "https://localhost:8080/"
        },
        "id": "2VTpASQRg22P",
        "outputId": "c911a466-1965-48e5-d28d-e9cd88a2b9f9"
      },
      "outputs": [
        {
          "name": "stdout",
          "output_type": "stream",
          "text": [
            "Database 'company.db' created and connected successfully.\n",
            "Tables 'employees' and 'departments' created successfully.\n",
            "\n",
            "Processing '/content/Employee Details.csv' for table 'employees'...\n",
            "  -> Data from '/content/Employee Details.csv' loaded into 'employees' table successfully.\n",
            "\n",
            "Processing '/content/Department.csv' for table 'departments'...\n",
            "  - Warning: Could not convert column 'department_id' to int64. Error: int() argument must be a string, a bytes-like object or a real number, not 'NoneType'. Leaving as is.\n",
            "  - Warning: Could not convert column 'department_budget' to float64. Error: could not convert string to float: 'Dollar'. Leaving as is.\n",
            "  -> Data from '/content/Department.csv' loaded into 'departments' table successfully.\n",
            "\n",
            " Data committed to the database successfully!\n",
            " Database connection closed.\n"
          ]
        }
      ],
      "source": [
        "import sqlite3\n",
        "import pandas as pd\n",
        "import os\n",
        "\n",
        "# --- Define SQL Schemas ---\n",
        "employees_schema = \"\"\"\n",
        "CREATE TABLE IF NOT EXISTS employees (\n",
        "    employee_id INT PRIMARY KEY,\n",
        "    first_name VARCHAR(50),\n",
        "    last_name VARCHAR(50),\n",
        "    gender VARCHAR(10),\n",
        "    date_of_birth DATE,\n",
        "    job_title VARCHAR(100),\n",
        "    department VARCHAR(50),\n",
        "    salary DECIMAL(10,2),\n",
        "    hire_date DATE,\n",
        "    email VARCHAR(100)\n",
        ");\n",
        "\"\"\"\n",
        "\n",
        "departments_schema = \"\"\"\n",
        "CREATE TABLE IF NOT EXISTS departments (\n",
        "    department_id INT PRIMARY KEY,\n",
        "    department_name VARCHAR(100),\n",
        "    department_code VARCHAR(50),\n",
        "    department_head VARCHAR(100),\n",
        "    department_budget DECIMAL(12,2),\n",
        "    department_location VARCHAR(100)\n",
        ");\n",
        "\"\"\"\n",
        "\n",
        "# --- Define expected column data types ---\n",
        "COLUMN_DATA_TYPES = {\n",
        "    'employees': {\n",
        "        'employee_id': 'int64',\n",
        "        'first_name': 'object',\n",
        "        'last_name': 'object',\n",
        "        'gender': 'object',\n",
        "        'date_of_birth': 'datetime64[ns]',\n",
        "        'job_title': 'object',\n",
        "        'department': 'object',\n",
        "        'salary': 'float64',\n",
        "        'hire_date': 'datetime64[ns]',\n",
        "        'email': 'object'\n",
        "    },\n",
        "    'departments': {\n",
        "        'department_id': 'int64',\n",
        "        'department_name': 'object',\n",
        "        'department_code': 'object',\n",
        "        'department_head': 'object',\n",
        "        'department_budget': 'float64',\n",
        "        'department_location': 'object'\n",
        "    }\n",
        "}\n",
        "\n",
        "# --- Database setup ---\n",
        "db_name = 'company.db'\n",
        "conn = None  # Initialize connection to None\n",
        "\n",
        "try:\n",
        "    # If the database exists, remove it for a clean start\n",
        "    if os.path.exists(db_name):\n",
        "        os.remove(db_name)\n",
        "        print(f\"Removed existing database '{db_name}'.\")\n",
        "\n",
        "    # Establish a connection to the SQLite database\n",
        "    conn = sqlite3.connect(db_name)\n",
        "    cursor = conn.cursor()\n",
        "    print(f\"Database '{db_name}' created and connected successfully.\")\n",
        "\n",
        "    # Create tables\n",
        "    cursor.execute(employees_schema)\n",
        "    cursor.execute(departments_schema)\n",
        "    print(\"Tables 'employees' and 'departments' created successfully.\")\n",
        "\n",
        "    # --- Load data from CSV files into the tables using pandas ---\n",
        "    csv_to_table_map = {\n",
        "        '/content/Employee Details.csv': 'employees',\n",
        "        '/content/Department.csv': 'departments'\n",
        "    }\n",
        "\n",
        "    for csv_file, table_name in csv_to_table_map.items():\n",
        "        if os.path.exists(csv_file):\n",
        "            print(f\"\\nProcessing '{csv_file}' for table '{table_name}'...\")\n",
        "\n",
        "            # Read CSV into DataFrame\n",
        "            df = pd.read_csv(csv_file)\n",
        "\n",
        "            # Get expected schema\n",
        "            expected_schema = COLUMN_DATA_TYPES[table_name]\n",
        "            expected_cols = list(expected_schema.keys())\n",
        "\n",
        "            # Keep only expected columns\n",
        "            df = df[df.columns.intersection(expected_cols)]\n",
        "\n",
        "            # Add missing columns as None (NULL)\n",
        "            for col in expected_cols:\n",
        "                if col not in df.columns:\n",
        "                    df[col] = None\n",
        "\n",
        "            # Reorder columns to match schema\n",
        "            df = df[expected_cols]\n",
        "\n",
        "            # Enforce correct data types\n",
        "            for col, dtype in expected_schema.items():\n",
        "                if 'datetime' in dtype:\n",
        "                    df[col] = pd.to_datetime(df[col], errors='coerce')\n",
        "                else:\n",
        "                    try:\n",
        "                        df[col] = df[col].astype(dtype)\n",
        "                    except (ValueError, TypeError) as e:\n",
        "                        print(f\"  - Warning: Could not convert column '{col}' to {dtype}. Error: {e}. Leaving as is.\")\n",
        "\n",
        "            # Insert data into SQL table\n",
        "            df.to_sql(table_name, conn, if_exists='append', index=False)\n",
        "            print(f\"  -> Data from '{csv_file}' loaded into '{table_name}' table successfully.\")\n",
        "        else:\n",
        "            print(f\" Warning: '{csv_file}' not found. Skipping data load for '{table_name}'.\")\n",
        "\n",
        "    # Commit changes\n",
        "    conn.commit()\n",
        "    print(\"\\n Data committed to the database successfully!\")\n",
        "\n",
        "except sqlite3.Error as e:\n",
        "    print(f\" Database error: {e}\")\n",
        "except pd.errors.EmptyDataError as e:\n",
        "    print(f\" Pandas error: {e}. One of the CSV files might be empty.\")\n",
        "except KeyError as e:\n",
        "    print(f\" Schema definition error: Missing column in COLUMN_DATA_TYPES: {e}\")\n",
        "except Exception as e:\n",
        "    print(f\" Unexpected error: {e}\")\n",
        "finally:\n",
        "    if conn:\n",
        "        conn.close()\n",
        "        print(\" Database connection closed.\")\n"
      ]
    },
    {
      "cell_type": "markdown",
      "metadata": {
        "id": "LVdav--g_oQY"
      },
      "source": [
        "# Tangent 2: setup API Key using Google's AI Studio\n",
        "\n",
        "https://aistudio.google.com/\n"
      ]
    },
    {
      "cell_type": "markdown",
      "metadata": {
        "id": "N_k_NUxfsMG3"
      },
      "source": [
        "And, the key as `Secrets` in Colab."
      ]
    },
    {
      "cell_type": "markdown",
      "metadata": {
        "id": "pYlXCB-H_yMj"
      },
      "source": [
        "### Install Gen AI library"
      ]
    },
    {
      "cell_type": "markdown",
      "metadata": {
        "id": "zzdTvcbuABaP"
      },
      "source": [
        "We will be installing of the google-generativeai package, the official Python SDK for the Gemini API."
      ]
    },
    {
      "cell_type": "code",
      "execution_count": 12,
      "metadata": {
        "colab": {
          "base_uri": "https://localhost:8080/"
        },
        "id": "SLJSNTW-_t_P",
        "outputId": "f83d4f73-9fde-41ce-a5a2-293aca60eaa1"
      },
      "outputs": [
        {
          "name": "stdout",
          "output_type": "stream",
          "text": [
            "Requirement already satisfied: google-genai in /usr/local/lib/python3.12/dist-packages (1.45.0)\n",
            "Requirement already satisfied: anyio<5.0.0,>=4.8.0 in /usr/local/lib/python3.12/dist-packages (from google-genai) (4.11.0)\n",
            "Requirement already satisfied: google-auth<3.0.0,>=2.14.1 in /usr/local/lib/python3.12/dist-packages (from google-genai) (2.38.0)\n",
            "Requirement already satisfied: httpx<1.0.0,>=0.28.1 in /usr/local/lib/python3.12/dist-packages (from google-genai) (0.28.1)\n",
            "Requirement already satisfied: pydantic<3.0.0,>=2.0.0 in /usr/local/lib/python3.12/dist-packages (from google-genai) (2.11.10)\n",
            "Requirement already satisfied: requests<3.0.0,>=2.28.1 in /usr/local/lib/python3.12/dist-packages (from google-genai) (2.32.4)\n",
            "Requirement already satisfied: tenacity<9.2.0,>=8.2.3 in /usr/local/lib/python3.12/dist-packages (from google-genai) (8.5.0)\n",
            "Requirement already satisfied: websockets<15.1.0,>=13.0.0 in /usr/local/lib/python3.12/dist-packages (from google-genai) (15.0.1)\n",
            "Requirement already satisfied: typing-extensions<5.0.0,>=4.11.0 in /usr/local/lib/python3.12/dist-packages (from google-genai) (4.15.0)\n",
            "Requirement already satisfied: idna>=2.8 in /usr/local/lib/python3.12/dist-packages (from anyio<5.0.0,>=4.8.0->google-genai) (3.11)\n",
            "Requirement already satisfied: sniffio>=1.1 in /usr/local/lib/python3.12/dist-packages (from anyio<5.0.0,>=4.8.0->google-genai) (1.3.1)\n",
            "Requirement already satisfied: cachetools<6.0,>=2.0.0 in /usr/local/lib/python3.12/dist-packages (from google-auth<3.0.0,>=2.14.1->google-genai) (5.5.2)\n",
            "Requirement already satisfied: pyasn1-modules>=0.2.1 in /usr/local/lib/python3.12/dist-packages (from google-auth<3.0.0,>=2.14.1->google-genai) (0.4.2)\n",
            "Requirement already satisfied: rsa<5,>=3.1.4 in /usr/local/lib/python3.12/dist-packages (from google-auth<3.0.0,>=2.14.1->google-genai) (4.9.1)\n",
            "Requirement already satisfied: certifi in /usr/local/lib/python3.12/dist-packages (from httpx<1.0.0,>=0.28.1->google-genai) (2025.10.5)\n",
            "Requirement already satisfied: httpcore==1.* in /usr/local/lib/python3.12/dist-packages (from httpx<1.0.0,>=0.28.1->google-genai) (1.0.9)\n",
            "Requirement already satisfied: h11>=0.16 in /usr/local/lib/python3.12/dist-packages (from httpcore==1.*->httpx<1.0.0,>=0.28.1->google-genai) (0.16.0)\n",
            "Requirement already satisfied: annotated-types>=0.6.0 in /usr/local/lib/python3.12/dist-packages (from pydantic<3.0.0,>=2.0.0->google-genai) (0.7.0)\n",
            "Requirement already satisfied: pydantic-core==2.33.2 in /usr/local/lib/python3.12/dist-packages (from pydantic<3.0.0,>=2.0.0->google-genai) (2.33.2)\n",
            "Requirement already satisfied: typing-inspection>=0.4.0 in /usr/local/lib/python3.12/dist-packages (from pydantic<3.0.0,>=2.0.0->google-genai) (0.4.2)\n",
            "Requirement already satisfied: charset_normalizer<4,>=2 in /usr/local/lib/python3.12/dist-packages (from requests<3.0.0,>=2.28.1->google-genai) (3.4.4)\n",
            "Requirement already satisfied: urllib3<3,>=1.21.1 in /usr/local/lib/python3.12/dist-packages (from requests<3.0.0,>=2.28.1->google-genai) (2.5.0)\n",
            "Requirement already satisfied: pyasn1<0.7.0,>=0.6.1 in /usr/local/lib/python3.12/dist-packages (from pyasn1-modules>=0.2.1->google-auth<3.0.0,>=2.14.1->google-genai) (0.6.1)\n"
          ]
        }
      ],
      "source": [
        "!pip install google-genai"
      ]
    },
    {
      "cell_type": "markdown",
      "metadata": {
        "id": "gBzmsfZt_2HV"
      },
      "source": [
        "### Import required modules"
      ]
    },
    {
      "cell_type": "code",
      "execution_count": 13,
      "metadata": {
        "id": "RH3xCeNv_0ze"
      },
      "outputs": [],
      "source": [
        "from google import genai\n",
        "from google.colab import userdata"
      ]
    },
    {
      "cell_type": "code",
      "execution_count": 14,
      "metadata": {
        "id": "PYBbstuLsRLh"
      },
      "outputs": [],
      "source": [
        "genai_client = genai.Client(api_key=userdata.get('GOOGLE_API_KEY'))"
      ]
    },
    {
      "cell_type": "markdown",
      "metadata": {
        "id": "gwJ0i7l3se9d"
      },
      "source": [
        "# Tangent 3: Prompt Engineering"
      ]
    },
    {
      "cell_type": "code",
      "execution_count": 15,
      "metadata": {
        "id": "PvYjAHOikCfn"
      },
      "outputs": [],
      "source": [
        "prompt = \"\"\"\n",
        "\n",
        "### ROLE ###\n",
        "You are an expert Text-to-SQL translator with advanced knowledge of SQL syntax, database schema reasoning, and natural language understanding.\n",
        "Your job is to generate syntactically correct and semantically accurate SQL queries in SQLite syntax based on user input and the given schema.\n",
        "\n",
        "### CONTEXT ###\n",
        "The user is working with a **company management database** containing employee and department data.\n",
        "Users will provide natural language questions in English, and you must convert them into equivalent SQL SELECT queries that correctly retrieve the requested data.\n",
        "\n",
        "Here is the database schema:\n",
        "\n",
        "**Employees Table**\n",
        "```sql\n",
        "CREATE TABLE IF NOT EXISTS employees (\n",
        "    employee_id INT PRIMARY KEY,\n",
        "    first_name VARCHAR(50),\n",
        "    last_name VARCHAR(50),\n",
        "    gender VARCHAR(10),\n",
        "    date_of_birth DATE,\n",
        "    job_title VARCHAR(100),\n",
        "    department VARCHAR(50),\n",
        "    salary DECIMAL(10,2),\n",
        "    hire_date DATE,\n",
        "    email VARCHAR(100)\n",
        ");\"\"\"\n"
      ]
    },
    {
      "cell_type": "code",
      "execution_count": 20,
      "metadata": {
        "id": "a8Fzx7yCn1Hp"
      },
      "outputs": [],
      "source": [
        "import json\n",
        "def get_sql_query_via_gemini(genai_client, prompt, user_query):\n",
        "\n",
        "  # https://www.geeksforgeeks.org/python/formatted-string-literals-f-strings-python/\n",
        "  contents = f\"\"\"\n",
        "  {prompt}\n",
        "\n",
        "  Here's the user query in english you need to work on:\n",
        "  {user_query}\n",
        "  \"\"\"\n",
        "  response = genai_client.models.generate_content(model='gemini-2.5-flash', contents=contents)\n",
        "\n",
        "  # Print the raw response text for debugging\n",
        "  print(\"Raw model response text:\")\n",
        "  print(response.text)\n",
        "  print(\"-\" * 20)\n",
        "\n",
        "\n",
        "  # Access the usage_metadata attribute\n",
        "  usage_metadata = response.usage_metadata\n",
        "\n",
        "  # Print the different token counts\n",
        "  print(f\"Input Token Count: {usage_metadata.prompt_token_count}\")\n",
        "  print(f\"Thoughts Token Count: {response.usage_metadata.thoughts_token_count}\")\n",
        "  print(f\"Output Token Count: {usage_metadata.candidates_token_count}\")\n",
        "  print(f\"Total Token Count: {usage_metadata.total_token_count}\")\n",
        "\n",
        "  # Clean the output to remove potential leading/trailing characters or markdown\n",
        "  output = response.text.replace('```sqlite\\n', '').replace('```', '').strip()\n",
        "\n",
        "  # Print the cleaned output\n",
        "  print(\"Cleaned output from get_sql_query_via_gemini:\")\n",
        "  print(output)\n",
        "  print(\"-\" * 20)\n",
        "\n",
        "  return output"
      ]
    },
    {
      "cell_type": "code",
      "execution_count": 21,
      "metadata": {
        "id": "0qsfbAaBpYNn"
      },
      "outputs": [],
      "source": [
        "import sqlite3\n",
        "import pandas as pd\n",
        "\n",
        "def execute_query(query, db_name='company.db'):\n",
        "    \"\"\"\n",
        "    Executes an SQL query on the specified SQLite database\n",
        "    and returns the results as a pandas DataFrame.\n",
        "    \"\"\"\n",
        "\n",
        "    conn = None\n",
        "    try:\n",
        "        # Connect to the SQLite database\n",
        "        conn = sqlite3.connect(db_name)\n",
        "        cursor = conn.cursor()\n",
        "\n",
        "        print(f\"\\n Executing query on '{db_name}':\\n{query}\\n\")\n",
        "        print(f\"--- Cleaned query for execution ---\\n{query}\\n-----------------------------------\")\n",
        "\n",
        "\n",
        "        # Execute the SQL query\n",
        "        cursor.execute(query)\n",
        "\n",
        "        # If the query is a SELECT, fetch results\n",
        "        if query.strip().lower().startswith(\"select\"):\n",
        "            rows = cursor.fetchall()\n",
        "            columns = [desc[0] for desc in cursor.description]\n",
        "            results_df = pd.DataFrame(rows, columns=columns)\n",
        "            print(\" Query executed successfully and data fetched.\")\n",
        "            return results_df\n",
        "        else:\n",
        "            # For INSERT, UPDATE, DELETE, CREATE TABLE, etc.\n",
        "            conn.commit()\n",
        "            print(\" Query executed successfully (no data returned).\")\n",
        "            return None\n",
        "\n",
        "    except sqlite3.Error as e:\n",
        "        print(f\" Database error: {e}\")\n",
        "        return None\n",
        "\n",
        "    except Exception as e:\n",
        "        print(f\" Unexpected error: {e}\")\n",
        "        return None\n",
        "\n",
        "    finally:\n",
        "        if conn:\n",
        "            conn.close()"
      ]
    },
    {
      "cell_type": "code",
      "execution_count": 22,
      "metadata": {
        "id": "FD-xuCLArqi5"
      },
      "outputs": [],
      "source": [
        "def text2sql(genai_client, prompt, user_query):\n",
        "  output = get_sql_query_via_gemini(genai_client, prompt, user_query)\n",
        "  results = execute_query(output)\n",
        "  return results"
      ]
    },
    {
      "cell_type": "code",
      "execution_count": 23,
      "metadata": {
        "colab": {
          "base_uri": "https://localhost:8080/",
          "height": 428
        },
        "id": "Tjx7gP7ls0Gy",
        "outputId": "eab2483e-3444-41b5-9996-d0a0b44cb3c1"
      },
      "outputs": [
        {
          "name": "stdout",
          "output_type": "stream",
          "text": [
            "Raw model response text:\n",
            "```sqlite\n",
            "SELECT COUNT(*) FROM employees;\n",
            "```\n",
            "--------------------\n",
            "Input Token Count: 256\n",
            "Thoughts Token Count: 40\n",
            "Output Token Count: 11\n",
            "Total Token Count: 307\n",
            "Cleaned output from get_sql_query_via_gemini:\n",
            "SELECT COUNT(*) FROM employees;\n",
            "--------------------\n",
            "\n",
            " Executing query on 'company.db':\n",
            "SELECT COUNT(*) FROM employees;\n",
            "\n",
            "--- Cleaned query for execution ---\n",
            "SELECT COUNT(*) FROM employees;\n",
            "-----------------------------------\n",
            " Query executed successfully and data fetched.\n"
          ]
        },
        {
          "data": {
            "application/vnd.google.colaboratory.intrinsic+json": {
              "summary": "{\n  \"name\": \"text2sql(genai_client, prompt, \\\" How many employees are there?\\\")\",\n  \"rows\": 1,\n  \"fields\": [\n    {\n      \"column\": \"COUNT(*)\",\n      \"properties\": {\n        \"dtype\": \"number\",\n        \"std\": null,\n        \"min\": 1000,\n        \"max\": 1000,\n        \"num_unique_values\": 1,\n        \"samples\": [\n          1000\n        ],\n        \"semantic_type\": \"\",\n        \"description\": \"\"\n      }\n    }\n  ]\n}",
              "type": "dataframe"
            },
            "text/html": [
              "\n",
              "  <div id=\"df-14ff9388-4c5c-45f6-abf6-d9c8dffbe276\" class=\"colab-df-container\">\n",
              "    <div>\n",
              "<style scoped>\n",
              "    .dataframe tbody tr th:only-of-type {\n",
              "        vertical-align: middle;\n",
              "    }\n",
              "\n",
              "    .dataframe tbody tr th {\n",
              "        vertical-align: top;\n",
              "    }\n",
              "\n",
              "    .dataframe thead th {\n",
              "        text-align: right;\n",
              "    }\n",
              "</style>\n",
              "<table border=\"1\" class=\"dataframe\">\n",
              "  <thead>\n",
              "    <tr style=\"text-align: right;\">\n",
              "      <th></th>\n",
              "      <th>COUNT(*)</th>\n",
              "    </tr>\n",
              "  </thead>\n",
              "  <tbody>\n",
              "    <tr>\n",
              "      <th>0</th>\n",
              "      <td>1000</td>\n",
              "    </tr>\n",
              "  </tbody>\n",
              "</table>\n",
              "</div>\n",
              "    <div class=\"colab-df-buttons\">\n",
              "\n",
              "  <div class=\"colab-df-container\">\n",
              "    <button class=\"colab-df-convert\" onclick=\"convertToInteractive('df-14ff9388-4c5c-45f6-abf6-d9c8dffbe276')\"\n",
              "            title=\"Convert this dataframe to an interactive table.\"\n",
              "            style=\"display:none;\">\n",
              "\n",
              "  <svg xmlns=\"http://www.w3.org/2000/svg\" height=\"24px\" viewBox=\"0 -960 960 960\">\n",
              "    <path d=\"M120-120v-720h720v720H120Zm60-500h600v-160H180v160Zm220 220h160v-160H400v160Zm0 220h160v-160H400v160ZM180-400h160v-160H180v160Zm440 0h160v-160H620v160ZM180-180h160v-160H180v160Zm440 0h160v-160H620v160Z\"/>\n",
              "  </svg>\n",
              "    </button>\n",
              "\n",
              "  <style>\n",
              "    .colab-df-container {\n",
              "      display:flex;\n",
              "      gap: 12px;\n",
              "    }\n",
              "\n",
              "    .colab-df-convert {\n",
              "      background-color: #E8F0FE;\n",
              "      border: none;\n",
              "      border-radius: 50%;\n",
              "      cursor: pointer;\n",
              "      display: none;\n",
              "      fill: #1967D2;\n",
              "      height: 32px;\n",
              "      padding: 0 0 0 0;\n",
              "      width: 32px;\n",
              "    }\n",
              "\n",
              "    .colab-df-convert:hover {\n",
              "      background-color: #E2EBFA;\n",
              "      box-shadow: 0px 1px 2px rgba(60, 64, 67, 0.3), 0px 1px 3px 1px rgba(60, 64, 67, 0.15);\n",
              "      fill: #174EA6;\n",
              "    }\n",
              "\n",
              "    .colab-df-buttons div {\n",
              "      margin-bottom: 4px;\n",
              "    }\n",
              "\n",
              "    [theme=dark] .colab-df-convert {\n",
              "      background-color: #3B4455;\n",
              "      fill: #D2E3FC;\n",
              "    }\n",
              "\n",
              "    [theme=dark] .colab-df-convert:hover {\n",
              "      background-color: #434B5C;\n",
              "      box-shadow: 0px 1px 3px 1px rgba(0, 0, 0, 0.15);\n",
              "      filter: drop-shadow(0px 1px 2px rgba(0, 0, 0, 0.3));\n",
              "      fill: #FFFFFF;\n",
              "    }\n",
              "  </style>\n",
              "\n",
              "    <script>\n",
              "      const buttonEl =\n",
              "        document.querySelector('#df-14ff9388-4c5c-45f6-abf6-d9c8dffbe276 button.colab-df-convert');\n",
              "      buttonEl.style.display =\n",
              "        google.colab.kernel.accessAllowed ? 'block' : 'none';\n",
              "\n",
              "      async function convertToInteractive(key) {\n",
              "        const element = document.querySelector('#df-14ff9388-4c5c-45f6-abf6-d9c8dffbe276');\n",
              "        const dataTable =\n",
              "          await google.colab.kernel.invokeFunction('convertToInteractive',\n",
              "                                                    [key], {});\n",
              "        if (!dataTable) return;\n",
              "\n",
              "        const docLinkHtml = 'Like what you see? Visit the ' +\n",
              "          '<a target=\"_blank\" href=https://colab.research.google.com/notebooks/data_table.ipynb>data table notebook</a>'\n",
              "          + ' to learn more about interactive tables.';\n",
              "        element.innerHTML = '';\n",
              "        dataTable['output_type'] = 'display_data';\n",
              "        await google.colab.output.renderOutput(dataTable, element);\n",
              "        const docLink = document.createElement('div');\n",
              "        docLink.innerHTML = docLinkHtml;\n",
              "        element.appendChild(docLink);\n",
              "      }\n",
              "    </script>\n",
              "  </div>\n",
              "\n",
              "\n",
              "    </div>\n",
              "  </div>\n"
            ],
            "text/plain": [
              "   COUNT(*)\n",
              "0      1000"
            ]
          },
          "execution_count": 23,
          "metadata": {},
          "output_type": "execute_result"
        }
      ],
      "source": [
        "text2sql(genai_client, prompt, \" How many employees are there?\")"
      ]
    },
    {
      "cell_type": "code",
      "execution_count": 24,
      "metadata": {
        "colab": {
          "base_uri": "https://localhost:8080/",
          "height": 909
        },
        "id": "8hH_yFsgLmDC",
        "outputId": "3e141562-eec1-46eb-fc46-517c3a78d2d4"
      },
      "outputs": [
        {
          "name": "stdout",
          "output_type": "stream",
          "text": [
            "Raw model response text:\n",
            "```sqlite\n",
            "SELECT first_name, last_name, job_title\n",
            "FROM employees\n",
            "WHERE department = 'Sales';\n",
            "```\n",
            "--------------------\n",
            "Input Token Count: 266\n",
            "Thoughts Token Count: 45\n",
            "Output Token Count: 27\n",
            "Total Token Count: 338\n",
            "Cleaned output from get_sql_query_via_gemini:\n",
            "SELECT first_name, last_name, job_title\n",
            "FROM employees\n",
            "WHERE department = 'Sales';\n",
            "--------------------\n",
            "\n",
            " Executing query on 'company.db':\n",
            "SELECT first_name, last_name, job_title\n",
            "FROM employees\n",
            "WHERE department = 'Sales';\n",
            "\n",
            "--- Cleaned query for execution ---\n",
            "SELECT first_name, last_name, job_title\n",
            "FROM employees\n",
            "WHERE department = 'Sales';\n",
            "-----------------------------------\n",
            " Query executed successfully and data fetched.\n"
          ]
        },
        {
          "data": {
            "application/vnd.google.colaboratory.intrinsic+json": {
              "summary": "{\n  \"name\": \"text2sql(genai_client, prompt, \\\" List the names and job titles of all employees in the 'Sales' department\",\n  \"rows\": 202,\n  \"fields\": [\n    {\n      \"column\": \"first_name\",\n      \"properties\": {\n        \"dtype\": \"string\",\n        \"num_unique_values\": 200,\n        \"samples\": [\n          \"Horace\",\n          \"Lamont\",\n          \"Nedi\"\n        ],\n        \"semantic_type\": \"\",\n        \"description\": \"\"\n      }\n    },\n    {\n      \"column\": \"last_name\",\n      \"properties\": {\n        \"dtype\": \"string\",\n        \"num_unique_values\": 202,\n        \"samples\": [\n          \"Everly\",\n          \"Simondson\",\n          \"Blumire\"\n        ],\n        \"semantic_type\": \"\",\n        \"description\": \"\"\n      }\n    },\n    {\n      \"column\": \"job_title\",\n      \"properties\": {\n        \"dtype\": \"string\",\n        \"num_unique_values\": 109,\n        \"samples\": [\n          \"Product Engineer\",\n          \"Recruiter\",\n          \"Electrical Engineer\"\n        ],\n        \"semantic_type\": \"\",\n        \"description\": \"\"\n      }\n    }\n  ]\n}",
              "type": "dataframe"
            },
            "text/html": [
              "\n",
              "  <div id=\"df-46d48163-6edf-498c-95dc-894df67f0898\" class=\"colab-df-container\">\n",
              "    <div>\n",
              "<style scoped>\n",
              "    .dataframe tbody tr th:only-of-type {\n",
              "        vertical-align: middle;\n",
              "    }\n",
              "\n",
              "    .dataframe tbody tr th {\n",
              "        vertical-align: top;\n",
              "    }\n",
              "\n",
              "    .dataframe thead th {\n",
              "        text-align: right;\n",
              "    }\n",
              "</style>\n",
              "<table border=\"1\" class=\"dataframe\">\n",
              "  <thead>\n",
              "    <tr style=\"text-align: right;\">\n",
              "      <th></th>\n",
              "      <th>first_name</th>\n",
              "      <th>last_name</th>\n",
              "      <th>job_title</th>\n",
              "    </tr>\n",
              "  </thead>\n",
              "  <tbody>\n",
              "    <tr>\n",
              "      <th>0</th>\n",
              "      <td>Dave</td>\n",
              "      <td>Studart</td>\n",
              "      <td>Social Worker</td>\n",
              "    </tr>\n",
              "    <tr>\n",
              "      <th>1</th>\n",
              "      <td>Orin</td>\n",
              "      <td>Shury</td>\n",
              "      <td>Internal Auditor</td>\n",
              "    </tr>\n",
              "    <tr>\n",
              "      <th>2</th>\n",
              "      <td>Silas</td>\n",
              "      <td>Yitshak</td>\n",
              "      <td>Tax Accountant</td>\n",
              "    </tr>\n",
              "    <tr>\n",
              "      <th>3</th>\n",
              "      <td>Elberta</td>\n",
              "      <td>Lensch</td>\n",
              "      <td>Account Coordinator</td>\n",
              "    </tr>\n",
              "    <tr>\n",
              "      <th>4</th>\n",
              "      <td>Birch</td>\n",
              "      <td>Chafer</td>\n",
              "      <td>Electrical Engineer</td>\n",
              "    </tr>\n",
              "    <tr>\n",
              "      <th>...</th>\n",
              "      <td>...</td>\n",
              "      <td>...</td>\n",
              "      <td>...</td>\n",
              "    </tr>\n",
              "    <tr>\n",
              "      <th>197</th>\n",
              "      <td>Concordia</td>\n",
              "      <td>Blissett</td>\n",
              "      <td>Compensation Analyst</td>\n",
              "    </tr>\n",
              "    <tr>\n",
              "      <th>198</th>\n",
              "      <td>Smith</td>\n",
              "      <td>Crittal</td>\n",
              "      <td>Operator</td>\n",
              "    </tr>\n",
              "    <tr>\n",
              "      <th>199</th>\n",
              "      <td>Ajay</td>\n",
              "      <td>Ledgerton</td>\n",
              "      <td>Account Coordinator</td>\n",
              "    </tr>\n",
              "    <tr>\n",
              "      <th>200</th>\n",
              "      <td>Vivien</td>\n",
              "      <td>Server</td>\n",
              "      <td>Professor</td>\n",
              "    </tr>\n",
              "    <tr>\n",
              "      <th>201</th>\n",
              "      <td>Russell</td>\n",
              "      <td>Searle</td>\n",
              "      <td>Recruiter</td>\n",
              "    </tr>\n",
              "  </tbody>\n",
              "</table>\n",
              "<p>202 rows × 3 columns</p>\n",
              "</div>\n",
              "    <div class=\"colab-df-buttons\">\n",
              "\n",
              "  <div class=\"colab-df-container\">\n",
              "    <button class=\"colab-df-convert\" onclick=\"convertToInteractive('df-46d48163-6edf-498c-95dc-894df67f0898')\"\n",
              "            title=\"Convert this dataframe to an interactive table.\"\n",
              "            style=\"display:none;\">\n",
              "\n",
              "  <svg xmlns=\"http://www.w3.org/2000/svg\" height=\"24px\" viewBox=\"0 -960 960 960\">\n",
              "    <path d=\"M120-120v-720h720v720H120Zm60-500h600v-160H180v160Zm220 220h160v-160H400v160Zm0 220h160v-160H400v160ZM180-400h160v-160H180v160Zm440 0h160v-160H620v160ZM180-180h160v-160H180v160Zm440 0h160v-160H620v160Z\"/>\n",
              "  </svg>\n",
              "    </button>\n",
              "\n",
              "  <style>\n",
              "    .colab-df-container {\n",
              "      display:flex;\n",
              "      gap: 12px;\n",
              "    }\n",
              "\n",
              "    .colab-df-convert {\n",
              "      background-color: #E8F0FE;\n",
              "      border: none;\n",
              "      border-radius: 50%;\n",
              "      cursor: pointer;\n",
              "      display: none;\n",
              "      fill: #1967D2;\n",
              "      height: 32px;\n",
              "      padding: 0 0 0 0;\n",
              "      width: 32px;\n",
              "    }\n",
              "\n",
              "    .colab-df-convert:hover {\n",
              "      background-color: #E2EBFA;\n",
              "      box-shadow: 0px 1px 2px rgba(60, 64, 67, 0.3), 0px 1px 3px 1px rgba(60, 64, 67, 0.15);\n",
              "      fill: #174EA6;\n",
              "    }\n",
              "\n",
              "    .colab-df-buttons div {\n",
              "      margin-bottom: 4px;\n",
              "    }\n",
              "\n",
              "    [theme=dark] .colab-df-convert {\n",
              "      background-color: #3B4455;\n",
              "      fill: #D2E3FC;\n",
              "    }\n",
              "\n",
              "    [theme=dark] .colab-df-convert:hover {\n",
              "      background-color: #434B5C;\n",
              "      box-shadow: 0px 1px 3px 1px rgba(0, 0, 0, 0.15);\n",
              "      filter: drop-shadow(0px 1px 2px rgba(0, 0, 0, 0.3));\n",
              "      fill: #FFFFFF;\n",
              "    }\n",
              "  </style>\n",
              "\n",
              "    <script>\n",
              "      const buttonEl =\n",
              "        document.querySelector('#df-46d48163-6edf-498c-95dc-894df67f0898 button.colab-df-convert');\n",
              "      buttonEl.style.display =\n",
              "        google.colab.kernel.accessAllowed ? 'block' : 'none';\n",
              "\n",
              "      async function convertToInteractive(key) {\n",
              "        const element = document.querySelector('#df-46d48163-6edf-498c-95dc-894df67f0898');\n",
              "        const dataTable =\n",
              "          await google.colab.kernel.invokeFunction('convertToInteractive',\n",
              "                                                    [key], {});\n",
              "        if (!dataTable) return;\n",
              "\n",
              "        const docLinkHtml = 'Like what you see? Visit the ' +\n",
              "          '<a target=\"_blank\" href=https://colab.research.google.com/notebooks/data_table.ipynb>data table notebook</a>'\n",
              "          + ' to learn more about interactive tables.';\n",
              "        element.innerHTML = '';\n",
              "        dataTable['output_type'] = 'display_data';\n",
              "        await google.colab.output.renderOutput(dataTable, element);\n",
              "        const docLink = document.createElement('div');\n",
              "        docLink.innerHTML = docLinkHtml;\n",
              "        element.appendChild(docLink);\n",
              "      }\n",
              "    </script>\n",
              "  </div>\n",
              "\n",
              "\n",
              "    <div id=\"df-5847da21-1d4c-471e-a138-ed0827e2a881\">\n",
              "      <button class=\"colab-df-quickchart\" onclick=\"quickchart('df-5847da21-1d4c-471e-a138-ed0827e2a881')\"\n",
              "                title=\"Suggest charts\"\n",
              "                style=\"display:none;\">\n",
              "\n",
              "<svg xmlns=\"http://www.w3.org/2000/svg\" height=\"24px\"viewBox=\"0 0 24 24\"\n",
              "     width=\"24px\">\n",
              "    <g>\n",
              "        <path d=\"M19 3H5c-1.1 0-2 .9-2 2v14c0 1.1.9 2 2 2h14c1.1 0 2-.9 2-2V5c0-1.1-.9-2-2-2zM9 17H7v-7h2v7zm4 0h-2V7h2v10zm4 0h-2v-4h2v4z\"/>\n",
              "    </g>\n",
              "</svg>\n",
              "      </button>\n",
              "\n",
              "<style>\n",
              "  .colab-df-quickchart {\n",
              "      --bg-color: #E8F0FE;\n",
              "      --fill-color: #1967D2;\n",
              "      --hover-bg-color: #E2EBFA;\n",
              "      --hover-fill-color: #174EA6;\n",
              "      --disabled-fill-color: #AAA;\n",
              "      --disabled-bg-color: #DDD;\n",
              "  }\n",
              "\n",
              "  [theme=dark] .colab-df-quickchart {\n",
              "      --bg-color: #3B4455;\n",
              "      --fill-color: #D2E3FC;\n",
              "      --hover-bg-color: #434B5C;\n",
              "      --hover-fill-color: #FFFFFF;\n",
              "      --disabled-bg-color: #3B4455;\n",
              "      --disabled-fill-color: #666;\n",
              "  }\n",
              "\n",
              "  .colab-df-quickchart {\n",
              "    background-color: var(--bg-color);\n",
              "    border: none;\n",
              "    border-radius: 50%;\n",
              "    cursor: pointer;\n",
              "    display: none;\n",
              "    fill: var(--fill-color);\n",
              "    height: 32px;\n",
              "    padding: 0;\n",
              "    width: 32px;\n",
              "  }\n",
              "\n",
              "  .colab-df-quickchart:hover {\n",
              "    background-color: var(--hover-bg-color);\n",
              "    box-shadow: 0 1px 2px rgba(60, 64, 67, 0.3), 0 1px 3px 1px rgba(60, 64, 67, 0.15);\n",
              "    fill: var(--button-hover-fill-color);\n",
              "  }\n",
              "\n",
              "  .colab-df-quickchart-complete:disabled,\n",
              "  .colab-df-quickchart-complete:disabled:hover {\n",
              "    background-color: var(--disabled-bg-color);\n",
              "    fill: var(--disabled-fill-color);\n",
              "    box-shadow: none;\n",
              "  }\n",
              "\n",
              "  .colab-df-spinner {\n",
              "    border: 2px solid var(--fill-color);\n",
              "    border-color: transparent;\n",
              "    border-bottom-color: var(--fill-color);\n",
              "    animation:\n",
              "      spin 1s steps(1) infinite;\n",
              "  }\n",
              "\n",
              "  @keyframes spin {\n",
              "    0% {\n",
              "      border-color: transparent;\n",
              "      border-bottom-color: var(--fill-color);\n",
              "      border-left-color: var(--fill-color);\n",
              "    }\n",
              "    20% {\n",
              "      border-color: transparent;\n",
              "      border-left-color: var(--fill-color);\n",
              "      border-top-color: var(--fill-color);\n",
              "    }\n",
              "    30% {\n",
              "      border-color: transparent;\n",
              "      border-left-color: var(--fill-color);\n",
              "      border-top-color: var(--fill-color);\n",
              "      border-right-color: var(--fill-color);\n",
              "    }\n",
              "    40% {\n",
              "      border-color: transparent;\n",
              "      border-right-color: var(--fill-color);\n",
              "      border-top-color: var(--fill-color);\n",
              "    }\n",
              "    60% {\n",
              "      border-color: transparent;\n",
              "      border-right-color: var(--fill-color);\n",
              "    }\n",
              "    80% {\n",
              "      border-color: transparent;\n",
              "      border-right-color: var(--fill-color);\n",
              "      border-bottom-color: var(--fill-color);\n",
              "    }\n",
              "    90% {\n",
              "      border-color: transparent;\n",
              "      border-bottom-color: var(--fill-color);\n",
              "    }\n",
              "  }\n",
              "</style>\n",
              "\n",
              "      <script>\n",
              "        async function quickchart(key) {\n",
              "          const quickchartButtonEl =\n",
              "            document.querySelector('#' + key + ' button');\n",
              "          quickchartButtonEl.disabled = true;  // To prevent multiple clicks.\n",
              "          quickchartButtonEl.classList.add('colab-df-spinner');\n",
              "          try {\n",
              "            const charts = await google.colab.kernel.invokeFunction(\n",
              "                'suggestCharts', [key], {});\n",
              "          } catch (error) {\n",
              "            console.error('Error during call to suggestCharts:', error);\n",
              "          }\n",
              "          quickchartButtonEl.classList.remove('colab-df-spinner');\n",
              "          quickchartButtonEl.classList.add('colab-df-quickchart-complete');\n",
              "        }\n",
              "        (() => {\n",
              "          let quickchartButtonEl =\n",
              "            document.querySelector('#df-5847da21-1d4c-471e-a138-ed0827e2a881 button');\n",
              "          quickchartButtonEl.style.display =\n",
              "            google.colab.kernel.accessAllowed ? 'block' : 'none';\n",
              "        })();\n",
              "      </script>\n",
              "    </div>\n",
              "\n",
              "    </div>\n",
              "  </div>\n"
            ],
            "text/plain": [
              "    first_name  last_name             job_title\n",
              "0         Dave    Studart         Social Worker\n",
              "1         Orin      Shury      Internal Auditor\n",
              "2        Silas    Yitshak        Tax Accountant\n",
              "3      Elberta     Lensch   Account Coordinator\n",
              "4        Birch     Chafer   Electrical Engineer\n",
              "..         ...        ...                   ...\n",
              "197  Concordia   Blissett  Compensation Analyst\n",
              "198      Smith    Crittal              Operator\n",
              "199       Ajay  Ledgerton   Account Coordinator\n",
              "200     Vivien     Server             Professor\n",
              "201    Russell     Searle             Recruiter\n",
              "\n",
              "[202 rows x 3 columns]"
            ]
          },
          "execution_count": 24,
          "metadata": {},
          "output_type": "execute_result"
        }
      ],
      "source": [
        "text2sql(genai_client, prompt, \" List the names and job titles of all employees in the 'Sales' department.\")"
      ]
    },
    {
      "cell_type": "markdown",
      "metadata": {
        "id": "CDu_3_dkLljQ"
      },
      "source": []
    }
  ],
  "metadata": {
    "colab": {
      "provenance": []
    },
    "kernelspec": {
      "display_name": "Python 3",
      "name": "python3"
    },
    "language_info": {
      "name": "python"
    }
  },
  "nbformat": 4,
  "nbformat_minor": 0
}
